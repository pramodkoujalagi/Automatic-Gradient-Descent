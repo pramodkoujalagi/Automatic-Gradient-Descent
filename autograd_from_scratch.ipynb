{
 "cells": [
  {
   "cell_type": "code",
   "execution_count": 194,
   "metadata": {},
   "outputs": [
    {
     "name": "stdout",
     "output_type": "stream",
     "text": [
      "The autoreload extension is already loaded. To reload it, use:\n",
      "  %reload_ext autoreload\n"
     ]
    }
   ],
   "source": [
    "%load_ext autoreload\n",
    "%autoreload 2"
   ]
  },
  {
   "cell_type": "code",
   "execution_count": 195,
   "metadata": {},
   "outputs": [],
   "source": [
    "import math\n",
    "import numpy as np\n",
    "import matplotlib.pyplot as plt\n",
    "%matplotlib inline"
   ]
  },
  {
   "cell_type": "code",
   "execution_count": 196,
   "metadata": {},
   "outputs": [],
   "source": [
    "def f(x):\n",
    "    return 3*x**2 - 5*x + 5"
   ]
  },
  {
   "cell_type": "code",
   "execution_count": 197,
   "metadata": {},
   "outputs": [
    {
     "data": {
      "text/plain": [
       "117"
      ]
     },
     "execution_count": 197,
     "metadata": {},
     "output_type": "execute_result"
    }
   ],
   "source": [
    "f(7)"
   ]
  },
  {
   "cell_type": "code",
   "execution_count": 198,
   "metadata": {},
   "outputs": [
    {
     "data": {
      "text/plain": [
       "[<matplotlib.lines.Line2D at 0x7f8f6baff100>]"
      ]
     },
     "execution_count": 198,
     "metadata": {},
     "output_type": "execute_result"
    },
    {
     "data": {
      "image/png": "[encoded data removed]",
      "text/plain": [
       "<Figure size 432x288 with 1 Axes>"
      ]
     },
     "metadata": {
      "needs_background": "light"
     },
     "output_type": "display_data"
    }
   ],
   "source": [
    "xs = np.arange(-5, 5, 0.25)\n",
    "ys = f(xs)\n",
    "plt.plot(xs, ys)"
   ]
  },
  {
   "cell_type": "code",
   "execution_count": 199,
   "metadata": {},
   "outputs": [
    {
     "data": {
      "text/plain": [
       "13.000089893466793"
      ]
     },
     "execution_count": 199,
     "metadata": {},
     "output_type": "execute_result"
    }
   ],
   "source": [
    "h = 0.00000000001\n",
    "x = 3.0\n",
    "(f(x + h) - f(x)) / h #get the numerical approximation of the slope"
   ]
  },
  {
   "cell_type": "code",
   "execution_count": 200,
   "metadata": {},
   "outputs": [
    {
     "name": "stdout",
     "output_type": "stream",
     "text": [
      "4.0\n"
     ]
    }
   ],
   "source": [
    "# let's get more compex\n",
    "a = 2.0\n",
    "b = -3.0\n",
    "c = 10\n",
    "d = a*b+c\n",
    "print(d)"
   ]
  },
  {
   "cell_type": "code",
   "execution_count": 201,
   "metadata": {},
   "outputs": [
    {
     "name": "stdout",
     "output_type": "stream",
     "text": [
      "d1 4.0\n",
      "d2 3.9999699999999994\n",
      "slope -3.000000000064062\n"
     ]
    }
   ],
   "source": [
    "h = 0.00001\n",
    "\n",
    "#inputs\n",
    "a = 2.0\n",
    "b = -3.0\n",
    "c = 10\n",
    "\n",
    "d1 = a*b + c\n",
    "a += h\n",
    "d2 = a*b + c\n",
    "print('d1', d1)\n",
    "print('d2', d2)\n",
    "print('slope', (d2 - d1)/h)"
   ]
  },
  {
   "cell_type": "code",
   "execution_count": 202,
   "metadata": {},
   "outputs": [],
   "source": [
    "class Value:\n",
    "\n",
    "    def __init__(self, data, _children=(), _op='', label=''):\n",
    "        self.data = data\n",
    "        self.grad = 0.0\n",
    "        self._backward = lambda: None\n",
    "        self._prev = set(_children)\n",
    "        self._op = _op\n",
    "        self.label = label \n",
    "\n",
    "    def __repr__(self):\n",
    "        return f\"Value(data={self.data})\"\n",
    "    \n",
    "    def __add__(self, other):\n",
    "        other = other if isinstance(other, Value) else Value(other)\n",
    "        out = Value(self.data + other.data, (self, other), '+')\n",
    "\n",
    "        def _backward():\n",
    "            self.grad += out.grad\n",
    "            other.grad += out.grad\n",
    "        out._backward = _backward\n",
    "\n",
    "        return out\n",
    "\n",
    "    def __radd__(self, other):\n",
    "        return self + other\n",
    "\n",
    "    def __mul__(self, other):\n",
    "        other = other if isinstance(other, Value) else Value(other)\n",
    "        out = Value(self.data * other.data, (self, other), '*')\n",
    "\n",
    "        def _backward():\n",
    "            self.grad += other.data * out.grad\n",
    "            other.grad += self.data * out.grad\n",
    "        out._backward = _backward\n",
    "\n",
    "        return out\n",
    "\n",
    "    def __pow__(self, other):\n",
    "        assert isinstance(other, (int, float)), \"only supporting int/float powers for now\"\n",
    "        out = Value(self.data**other, (self,), f'**{other}')\n",
    "\n",
    "        def _backward():\n",
    "            self.grad += (other * self.data**(other-1)) * out.grad\n",
    "        out._backward = _backward\n",
    "\n",
    "        return out\n",
    "    \n",
    "    def __neg__(self): # -self\n",
    "        return self * -1\n",
    "\n",
    "    def __radd__(self, other): # other + self\n",
    "        return self + other\n",
    "\n",
    "    def __sub__(self, other): # self - other\n",
    "        return self + (-other)\n",
    "\n",
    "    def __rsub__(self, other): # other - self\n",
    "        return other + (-self)\n",
    "\n",
    "    def __rmul__(self, other): # other * self\n",
    "        return self * other\n",
    "\n",
    "    def __truediv__(self, other): # self / other\n",
    "        return self * other**-1\n",
    "\n",
    "    def __rtruediv__(self, other): # other / self\n",
    "        return other * self**-1\n",
    "    \n",
    "    def tanh(self):\n",
    "        x = self.data\n",
    "        t = (math.exp(2*x) - 1) / (math.exp(2*x) + 1)\n",
    "        out = Value(t, (self, ), 'tanh')\n",
    "\n",
    "        def _backward():\n",
    "            self.grad += (1 - t**2) * out.grad\n",
    "        out._backward = _backward\n",
    "\n",
    "        return out\n",
    "\n",
    "    def exp(self):\n",
    "        out = Value(math.exp(self.data), (self, ), 'exp')    \n",
    "\n",
    "        def _backward():\n",
    "            self.grad += out.data * out.grad\n",
    "        out._backward = _backward\n",
    "\n",
    "        return out\n",
    "        \n",
    "    def backward(self):\n",
    "        # topological order all of the children in the graph\n",
    "        topo = []\n",
    "        visited = set()\n",
    "        def build_topo(v):\n",
    "            if v not in visited:\n",
    "                visited.add(v)\n",
    "                for child in v._prev:\n",
    "                    build_topo(child)\n",
    "                topo.append(v)\n",
    "        build_topo(self)\n",
    "\n",
    "        # go one variable at a time and apply the chain rule to get its gradient\n",
    "        self.grad = 1\n",
    "        for v in reversed(topo):\n",
    "            v._backward()"
   ]
  },
  {
   "cell_type": "code",
   "execution_count": 203,
   "metadata": {},
   "outputs": [],
   "source": [
    "a = Value(-2.0, label='a')\n",
    "b = Value(3.0, label='b')\n",
    "c = Value(10.0, label='c')\n",
    "e = a*b; e.label = 'e'\n",
    "d = e+c; d.label = 'd'\n",
    "f = Value(-2.0, label='f')\n",
    "L = d*f; L.label = 'L'\n",
    "L1 = L.data"
   ]
  },
  {
   "cell_type": "code",
   "execution_count": 204,
   "metadata": {},
   "outputs": [],
   "source": [
    "from graphviz import Digraph\n",
    "\n",
    "def trace(root):\n",
    "    # builds a set of all nodes and edges in a graph\n",
    "    nodes, edges = set(), set()\n",
    "    def build(v):\n",
    "        if v not in nodes:\n",
    "            nodes.add(v)\n",
    "            for child in v._prev:\n",
    "                edges.add((child, v))\n",
    "                build(child)\n",
    "    build(root)\n",
    "    return nodes, edges\n",
    "\n",
    "def draw_dot(root):\n",
    "    dot = Digraph(format='svg', graph_attr={'rankdir': 'LR'}) # LR = left to right\n",
    "\n",
    "    nodes, edges = trace(root)\n",
    "    for n in nodes:\n",
    "        uid = str(id(n))\n",
    "        # for any value in the graph, create a rectangular ('record') nod for it\n",
    "        dot.node(name=uid, label = \"{%s | data %.4f | grad %0.4f}\" % (n.label, n.data, n.grad), shape='record')\n",
    "        if n._op:\n",
    "            # if this value is a result of some operation, create an op node for it\n",
    "            dot.node(name = uid + n._op, label = n._op)\n",
    "            # and connect this node to it\n",
    "            dot.edge(uid + n._op, uid)\n",
    "    for n1, n2 in edges:\n",
    "        # conect n1 to the op node of n2\n",
    "        dot.edge(str(id(n1)), str(id(n2)) + n2._op)\n",
    "\n",
    "    return dot"
   ]
  },
  {
   "cell_type": "code",
   "execution_count": 205,
   "metadata": {},
   "outputs": [
    {
     "data": {
      "image/svg+xml": "<?xml version=\"1.0\" encoding=\"UTF-8\" standalone=\"no\"?>\n<!DOCTYPE svg PUBLIC \"-//W3C//DTD SVG 1.1//EN\"\n \"http://www.w3.org/Graphics/SVG/1.1/DTD/svg11.dtd\">\n<!-- Generated by graphviz version 5.0.0 (20220707.2338)\n -->\n<!-- Pages: 1 -->\n<svg width=\"1331pt\" height=\"156pt\"\n viewBox=\"0.00 0.00 1331.00 156.00\" xmlns=\"http://www.w3.org/2000/svg\" xmlns:xlink=\"http://www.w3.org/1999/xlink\">\n<g id=\"graph0\" class=\"graph\" transform=\"scale(1 1) rotate(0) translate(4 152)\">\n<polygon fill=\"white\" stroke=\"transparent\" points=\"-4,4 -4,-152 1327,-152 1327,4 -4,4\"/>\n<!-- 140253982341632 -->\n<g id=\"node1\" class=\"node\">\n<title>140253982341632</title>\n<polygon fill=\"none\" stroke=\"black\" points=\"2,-111.5 2,-147.5 234,-147.5 234,-111.5 2,-111.5\"/>\n<text text-anchor=\"middle\" x=\"15\" y=\"-125.8\" font-family=\"Times,serif\" font-size=\"14.00\">b</text>\n<polyline fill=\"none\" stroke=\"black\" points=\"28,-111.5 28,-147.5 \"/>\n<text text-anchor=\"middle\" x=\"79\" y=\"-125.8\" font-family=\"Times,serif\" font-size=\"14.00\">data 3.0000</text>\n<polyline fill=\"none\" stroke=\"black\" points=\"130,-111.5 130,-147.5 \"/>\n<text text-anchor=\"middle\" x=\"182\" y=\"-125.8\" font-family=\"Times,serif\" font-size=\"14.00\">grad 0.0000</text>\n</g>\n<!-- 140253964051520* -->\n<g id=\"node5\" class=\"node\">\n<title>140253964051520*</title>\n<ellipse fill=\"none\" stroke=\"black\" cx=\"299\" cy=\"-101.5\" rx=\"27\" ry=\"18\"/>\n<text text-anchor=\"middle\" x=\"299\" y=\"-97.8\" font-family=\"Times,serif\" font-size=\"14.00\">*</text>\n</g>\n<!-- 140253982341632&#45;&gt;140253964051520* -->\n<g id=\"edge9\" class=\"edge\">\n<title>140253982341632&#45;&gt;140253964051520*</title>\n<path fill=\"none\" stroke=\"black\" d=\"M234.13,-111.49C244.27,-109.91 253.92,-108.4 262.51,-107.05\"/>\n<polygon fill=\"black\" stroke=\"black\" points=\"263.09,-110.5 272.43,-105.5 262.01,-103.59 263.09,-110.5\"/>\n</g>\n<!-- 140253964056608 -->\n<g id=\"node2\" class=\"node\">\n<title>140253964056608</title>\n<polygon fill=\"none\" stroke=\"black\" points=\"727.5,-55.5 727.5,-91.5 959.5,-91.5 959.5,-55.5 727.5,-55.5\"/>\n<text text-anchor=\"middle\" x=\"740.5\" y=\"-69.8\" font-family=\"Times,serif\" font-size=\"14.00\">d</text>\n<polyline fill=\"none\" stroke=\"black\" points=\"753.5,-55.5 753.5,-91.5 \"/>\n<text text-anchor=\"middle\" x=\"804.5\" y=\"-69.8\" font-family=\"Times,serif\" font-size=\"14.00\">data 4.0000</text>\n<polyline fill=\"none\" stroke=\"black\" points=\"855.5,-55.5 855.5,-91.5 \"/>\n<text text-anchor=\"middle\" x=\"907.5\" y=\"-69.8\" font-family=\"Times,serif\" font-size=\"14.00\">grad 0.0000</text>\n</g>\n<!-- 140253964050704* -->\n<g id=\"node8\" class=\"node\">\n<title>140253964050704*</title>\n<ellipse fill=\"none\" stroke=\"black\" cx=\"1023\" cy=\"-45.5\" rx=\"27\" ry=\"18\"/>\n<text text-anchor=\"middle\" x=\"1023\" y=\"-41.8\" font-family=\"Times,serif\" font-size=\"14.00\">*</text>\n</g>\n<!-- 140253964056608&#45;&gt;140253964050704* -->\n<g id=\"edge7\" class=\"edge\">\n<title>140253964056608&#45;&gt;140253964050704*</title>\n<path fill=\"none\" stroke=\"black\" d=\"M958.67,-55.49C968.61,-53.92 978.08,-52.43 986.53,-51.1\"/>\n<polygon fill=\"black\" stroke=\"black\" points=\"987.31,-54.52 996.64,-49.5 986.22,-47.6 987.31,-54.52\"/>\n</g>\n<!-- 140253964056608+ -->\n<g id=\"node3\" class=\"node\">\n<title>140253964056608+</title>\n<ellipse fill=\"none\" stroke=\"black\" cx=\"664\" cy=\"-73.5\" rx=\"27\" ry=\"18\"/>\n<text text-anchor=\"middle\" x=\"664\" y=\"-69.8\" font-family=\"Times,serif\" font-size=\"14.00\">+</text>\n</g>\n<!-- 140253964056608+&#45;&gt;140253964056608 -->\n<g id=\"edge1\" class=\"edge\">\n<title>140253964056608+&#45;&gt;140253964056608</title>\n<path fill=\"none\" stroke=\"black\" d=\"M691.19,-73.5C698.78,-73.5 707.61,-73.5 717.11,-73.5\"/>\n<polygon fill=\"black\" stroke=\"black\" points=\"717.24,-77 727.24,-73.5 717.24,-70 717.24,-77\"/>\n</g>\n<!-- 140253964051520 -->\n<g id=\"node4\" class=\"node\">\n<title>140253964051520</title>\n<polygon fill=\"none\" stroke=\"black\" points=\"363.5,-83.5 363.5,-119.5 599.5,-119.5 599.5,-83.5 363.5,-83.5\"/>\n<text text-anchor=\"middle\" x=\"376\" y=\"-97.8\" font-family=\"Times,serif\" font-size=\"14.00\">e</text>\n<polyline fill=\"none\" stroke=\"black\" points=\"388.5,-83.5 388.5,-119.5 \"/>\n<text text-anchor=\"middle\" x=\"442\" y=\"-97.8\" font-family=\"Times,serif\" font-size=\"14.00\">data &#45;6.0000</text>\n<polyline fill=\"none\" stroke=\"black\" points=\"495.5,-83.5 495.5,-119.5 \"/>\n<text text-anchor=\"middle\" x=\"547.5\" y=\"-97.8\" font-family=\"Times,serif\" font-size=\"14.00\">grad 0.0000</text>\n</g>\n<!-- 140253964051520&#45;&gt;140253964056608+ -->\n<g id=\"edge4\" class=\"edge\">\n<title>140253964051520&#45;&gt;140253964056608+</title>\n<path fill=\"none\" stroke=\"black\" d=\"M598.6,-83.49C608.91,-81.89 618.74,-80.37 627.46,-79.01\"/>\n<polygon fill=\"black\" stroke=\"black\" points=\"628.18,-82.44 637.52,-77.45 627.1,-75.53 628.18,-82.44\"/>\n</g>\n<!-- 140253964051520*&#45;&gt;140253964051520 -->\n<g id=\"edge2\" class=\"edge\">\n<title>140253964051520*&#45;&gt;140253964051520</title>\n<path fill=\"none\" stroke=\"black\" d=\"M326.25,-101.5C334.09,-101.5 343.27,-101.5 353.17,-101.5\"/>\n<polygon fill=\"black\" stroke=\"black\" points=\"353.28,-105 363.28,-101.5 353.28,-98 353.28,-105\"/>\n</g>\n<!-- 140253964051568 -->\n<g id=\"node6\" class=\"node\">\n<title>140253964051568</title>\n<polygon fill=\"none\" stroke=\"black\" points=\"0,-56.5 0,-92.5 236,-92.5 236,-56.5 0,-56.5\"/>\n<text text-anchor=\"middle\" x=\"12.5\" y=\"-70.8\" font-family=\"Times,serif\" font-size=\"14.00\">a</text>\n<polyline fill=\"none\" stroke=\"black\" points=\"25,-56.5 25,-92.5 \"/>\n<text text-anchor=\"middle\" x=\"78.5\" y=\"-70.8\" font-family=\"Times,serif\" font-size=\"14.00\">data &#45;2.0000</text>\n<polyline fill=\"none\" stroke=\"black\" points=\"132,-56.5 132,-92.5 \"/>\n<text text-anchor=\"middle\" x=\"184\" y=\"-70.8\" font-family=\"Times,serif\" font-size=\"14.00\">grad 0.0000</text>\n</g>\n<!-- 140253964051568&#45;&gt;140253964051520* -->\n<g id=\"edge8\" class=\"edge\">\n<title>140253964051568&#45;&gt;140253964051520*</title>\n<path fill=\"none\" stroke=\"black\" d=\"M236.15,-92.17C245.53,-93.58 254.46,-94.93 262.46,-96.14\"/>\n<polygon fill=\"black\" stroke=\"black\" points=\"262.01,-99.61 272.42,-97.64 263.06,-92.69 262.01,-99.61\"/>\n</g>\n<!-- 140253964050704 -->\n<g id=\"node7\" class=\"node\">\n<title>140253964050704</title>\n<polygon fill=\"none\" stroke=\"black\" points=\"1086,-27.5 1086,-63.5 1323,-63.5 1323,-27.5 1086,-27.5\"/>\n<text text-anchor=\"middle\" x=\"1099\" y=\"-41.8\" font-family=\"Times,serif\" font-size=\"14.00\">L</text>\n<polyline fill=\"none\" stroke=\"black\" points=\"1112,-27.5 1112,-63.5 \"/>\n<text text-anchor=\"middle\" x=\"1165.5\" y=\"-41.8\" font-family=\"Times,serif\" font-size=\"14.00\">data &#45;8.0000</text>\n<polyline fill=\"none\" stroke=\"black\" points=\"1219,-27.5 1219,-63.5 \"/>\n<text text-anchor=\"middle\" x=\"1271\" y=\"-41.8\" font-family=\"Times,serif\" font-size=\"14.00\">grad 0.0000</text>\n</g>\n<!-- 140253964050704*&#45;&gt;140253964050704 -->\n<g id=\"edge3\" class=\"edge\">\n<title>140253964050704*&#45;&gt;140253964050704</title>\n<path fill=\"none\" stroke=\"black\" d=\"M1050.1,-45.5C1057.61,-45.5 1066.33,-45.5 1075.75,-45.5\"/>\n<polygon fill=\"black\" stroke=\"black\" points=\"1075.78,-49 1085.78,-45.5 1075.78,-42 1075.78,-49\"/>\n</g>\n<!-- 140253946860336 -->\n<g id=\"node9\" class=\"node\">\n<title>140253946860336</title>\n<polygon fill=\"none\" stroke=\"black\" points=\"362,-28.5 362,-64.5 601,-64.5 601,-28.5 362,-28.5\"/>\n<text text-anchor=\"middle\" x=\"374\" y=\"-42.8\" font-family=\"Times,serif\" font-size=\"14.00\">c</text>\n<polyline fill=\"none\" stroke=\"black\" points=\"386,-28.5 386,-64.5 \"/>\n<text text-anchor=\"middle\" x=\"441.5\" y=\"-42.8\" font-family=\"Times,serif\" font-size=\"14.00\">data 10.0000</text>\n<polyline fill=\"none\" stroke=\"black\" points=\"497,-28.5 497,-64.5 \"/>\n<text text-anchor=\"middle\" x=\"549\" y=\"-42.8\" font-family=\"Times,serif\" font-size=\"14.00\">grad 0.0000</text>\n</g>\n<!-- 140253946860336&#45;&gt;140253964056608+ -->\n<g id=\"edge5\" class=\"edge\">\n<title>140253946860336&#45;&gt;140253964056608+</title>\n<path fill=\"none\" stroke=\"black\" d=\"M601.13,-64.25C610.53,-65.65 619.47,-66.99 627.48,-68.19\"/>\n<polygon fill=\"black\" stroke=\"black\" points=\"627.03,-71.66 637.44,-69.68 628.07,-64.74 627.03,-71.66\"/>\n</g>\n<!-- 140253964056560 -->\n<g id=\"node10\" class=\"node\">\n<title>140253964056560</title>\n<polygon fill=\"none\" stroke=\"black\" points=\"727,-0.5 727,-36.5 960,-36.5 960,-0.5 727,-0.5\"/>\n<text text-anchor=\"middle\" x=\"738\" y=\"-14.8\" font-family=\"Times,serif\" font-size=\"14.00\">f</text>\n<polyline fill=\"none\" stroke=\"black\" points=\"749,-0.5 749,-36.5 \"/>\n<text text-anchor=\"middle\" x=\"802.5\" y=\"-14.8\" font-family=\"Times,serif\" font-size=\"14.00\">data &#45;2.0000</text>\n<polyline fill=\"none\" stroke=\"black\" points=\"856,-0.5 856,-36.5 \"/>\n<text text-anchor=\"middle\" x=\"908\" y=\"-14.8\" font-family=\"Times,serif\" font-size=\"14.00\">grad 0.0000</text>\n</g>\n<!-- 140253964056560&#45;&gt;140253964050704* -->\n<g id=\"edge6\" class=\"edge\">\n<title>140253964056560&#45;&gt;140253964050704*</title>\n<path fill=\"none\" stroke=\"black\" d=\"M960.42,-36.13C969.75,-37.55 978.64,-38.9 986.61,-40.12\"/>\n<polygon fill=\"black\" stroke=\"black\" points=\"986.11,-43.58 996.52,-41.62 987.16,-36.66 986.11,-43.58\"/>\n</g>\n</g>\n</svg>\n",
      "text/plain": [
       "<graphviz.graphs.Digraph at 0x7f8f6bb4beb0>"
      ]
     },
     "execution_count": 205,
     "metadata": {},
     "output_type": "execute_result"
    }
   ],
   "source": [
    "draw_dot(L)"
   ]
  },
  {
   "cell_type": "code",
   "execution_count": 206,
   "metadata": {},
   "outputs": [],
   "source": [
    "# L = d * f\n",
    "# dL / dd = ?? -> f\n",
    "\n",
    "# (f(x + h) - f(x)) / h\n",
    "# ((d + h) * f - d * f ) / h\n",
    "# d*f + h*f - d*f / h\n",
    "# h*f/h -> f"
   ]
  },
  {
   "attachments": {},
   "cell_type": "markdown",
   "metadata": {},
   "source": [
    "dd / dc\n",
    "d = c + e\n",
    "(f(x + h) - f(x)) / h\n",
    "((c + h + e) - c - e) / h\n",
    "h/h -> 1\n",
    "\n",
    "dd / dc -> 1.0\n",
    "dd / de -> 1.0"
   ]
  },
  {
   "attachments": {},
   "cell_type": "markdown",
   "metadata": {},
   "source": [
    "Chain rule\n",
    "dz/dx = dz/dy * dy/dx\n",
    "dL/dc = dL/dd * dd/dc\n",
    "\n",
    "WANT\n",
    "dL/dc\n",
    "\n",
    "KNOW\n",
    "dL/dd\n",
    "dd/dc\n",
    "\n"
   ]
  },
  {
   "attachments": {},
   "cell_type": "markdown",
   "metadata": {},
   "source": [
    "dL / de -> -2.0\n",
    "\n",
    "WANT\n",
    "dL / da\n",
    "\n",
    "dL / da = dL / de * de / da\n",
    "\n",
    "e = a * b\n",
    "de/da ??\n",
    "de / da = 3.0\n",
    "de / db = -2.0"
   ]
  },
  {
   "cell_type": "code",
   "execution_count": 207,
   "metadata": {},
   "outputs": [],
   "source": [
    "a.grad = 3.0 * -2.0\n",
    "b.grad = -2.0 * -2.0"
   ]
  },
  {
   "cell_type": "code",
   "execution_count": 208,
   "metadata": {},
   "outputs": [],
   "source": [
    "a.data += 0.01 * a.grad\n",
    "b.data += 0.01 * b.grad\n",
    "c.data += 0.01 * c.grad\n",
    "f.data += 0.01 * f.grad\n",
    "\n",
    "e = a*b\n",
    "d = e+c\n",
    "L = d*f"
   ]
  },
  {
   "cell_type": "code",
   "execution_count": 209,
   "metadata": {},
   "outputs": [
    {
     "name": "stdout",
     "output_type": "stream",
     "text": [
      "3.9999999999995595\n"
     ]
    }
   ],
   "source": [
    "def lol():\n",
    "    h = 0.001\n",
    "\n",
    "    a = Value(-2.0, label='a')\n",
    "    b = Value(3.0, label='b')\n",
    "    c = Value(10.0, label='c')\n",
    "    e = a*b; e.label = 'e'\n",
    "    d = e+c; d.label = 'd'\n",
    "    f = Value(-2.0, label='f')\n",
    "    L = d*f; L.label = 'L'\n",
    "    L1 = L.data\n",
    "\n",
    "    a = Value(-2.0, label='a')\n",
    "    b = Value(3.0 + h, label='b')\n",
    "    c = Value(10.0, label='c')\n",
    "    e = a*b; e.label = 'e'\n",
    "    d = e+c; d.label = 'd'\n",
    "    f = Value(-2.0 , label='f')\n",
    "    L = d*f; L.label = 'L'\n",
    "    L2 = L.data\n",
    "\n",
    "    print((L2 - L1)/h)\n",
    "lol()"
   ]
  },
  {
   "cell_type": "code",
   "execution_count": 210,
   "metadata": {},
   "outputs": [
    {
     "data": {
      "text/plain": [
       "[<matplotlib.lines.Line2D at 0x7f8f6bb6c910>]"
      ]
     },
     "execution_count": 210,
     "metadata": {},
     "output_type": "execute_result"
    },
    {
     "data": {
      "image/png": "[encoded data removed]",
      "text/plain": [
       "<Figure size 432x288 with 1 Axes>"
      ]
     },
     "metadata": {
      "needs_background": "light"
     },
     "output_type": "display_data"
    }
   ],
   "source": [
    "plt.plot(np.arange(-5,5,0.2), np.tanh(np.arange(-5, 5, 0.2)))"
   ]
  },
  {
   "cell_type": "code",
   "execution_count": 211,
   "metadata": {},
   "outputs": [],
   "source": [
    "#inputs\n",
    "x1 = Value(2.0, label='x1')\n",
    "x2 = Value(0.0, label='x2')\n",
    "\n",
    "#weights\n",
    "w1 = Value(-3.0, label='w1')\n",
    "w2 = Value(1.0, label='w2')\n",
    "\n",
    "#bias\n",
    "b = Value(6.8813735, label='b')\n",
    "\n",
    "# x1*w1 + x2*w2 + b\n",
    "x1w1 = x1*w1; x1w1.label = 'x1*w1'\n",
    "x2w2 = x2*w2; x2w2.label = 'x2*w2'\n",
    "\n",
    "x1w1x2w2 = x1w1 + x2w2; x1w1x2w2.label = 'x1w1 + x2w2'\n",
    "n = x1w1x2w2 + b; n.label = 'n'\n",
    "o = n.tanh(); o.label = 'o'"
   ]
  },
  {
   "cell_type": "code",
   "execution_count": 212,
   "metadata": {},
   "outputs": [
    {
     "data": {
      "image/svg+xml": "<?xml version=\"1.0\" encoding=\"UTF-8\" standalone=\"no\"?>\n<!DOCTYPE svg PUBLIC \"-//W3C//DTD SVG 1.1//EN\"\n \"http://www.w3.org/Graphics/SVG/1.1/DTD/svg11.dtd\">\n<!-- Generated by graphviz version 5.0.0 (20220707.2338)\n -->\n<!-- Pages: 1 -->\n<svg width=\"1832pt\" height=\"210pt\"\n viewBox=\"0.00 0.00 1831.69 210.00\" xmlns=\"http://www.w3.org/2000/svg\" xmlns:xlink=\"http://www.w3.org/1999/xlink\">\n<g id=\"graph0\" class=\"graph\" transform=\"scale(1 1) rotate(0) translate(4 206)\">\n<polygon fill=\"white\" stroke=\"transparent\" points=\"-4,4 -4,-206 1827.69,-206 1827.69,4 -4,4\"/>\n<!-- 140253959158848 -->\n<g id=\"node1\" class=\"node\">\n<title>140253959158848</title>\n<polygon fill=\"none\" stroke=\"black\" points=\"375,-55.5 375,-91.5 648,-91.5 648,-55.5 375,-55.5\"/>\n<text text-anchor=\"middle\" x=\"406\" y=\"-69.8\" font-family=\"Times,serif\" font-size=\"14.00\">x1*w1</text>\n<polyline fill=\"none\" stroke=\"black\" points=\"437,-55.5 437,-91.5 \"/>\n<text text-anchor=\"middle\" x=\"490.5\" y=\"-69.8\" font-family=\"Times,serif\" font-size=\"14.00\">data &#45;6.0000</text>\n<polyline fill=\"none\" stroke=\"black\" points=\"544,-55.5 544,-91.5 \"/>\n<text text-anchor=\"middle\" x=\"596\" y=\"-69.8\" font-family=\"Times,serif\" font-size=\"14.00\">grad 0.0000</text>\n</g>\n<!-- 140253959312320+ -->\n<g id=\"node13\" class=\"node\">\n<title>140253959312320+</title>\n<ellipse fill=\"none\" stroke=\"black\" cx=\"711\" cy=\"-100.5\" rx=\"27\" ry=\"18\"/>\n<text text-anchor=\"middle\" x=\"711\" y=\"-96.8\" font-family=\"Times,serif\" font-size=\"14.00\">+</text>\n</g>\n<!-- 140253959158848&#45;&gt;140253959312320+ -->\n<g id=\"edge12\" class=\"edge\">\n<title>140253959158848&#45;&gt;140253959312320+</title>\n<path fill=\"none\" stroke=\"black\" d=\"M644.24,-91.51C655.12,-93 665.4,-94.4 674.45,-95.64\"/>\n<polygon fill=\"black\" stroke=\"black\" points=\"674.11,-99.13 684.49,-97.01 675.05,-92.19 674.11,-99.13\"/>\n</g>\n<!-- 140253959158848* -->\n<g id=\"node2\" class=\"node\">\n<title>140253959158848*</title>\n<ellipse fill=\"none\" stroke=\"black\" cx=\"312\" cy=\"-73.5\" rx=\"27\" ry=\"18\"/>\n<text text-anchor=\"middle\" x=\"312\" y=\"-69.8\" font-family=\"Times,serif\" font-size=\"14.00\">*</text>\n</g>\n<!-- 140253959158848*&#45;&gt;140253959158848 -->\n<g id=\"edge1\" class=\"edge\">\n<title>140253959158848*&#45;&gt;140253959158848</title>\n<path fill=\"none\" stroke=\"black\" d=\"M339.23,-73.5C346.7,-73.5 355.41,-73.5 364.87,-73.5\"/>\n<polygon fill=\"black\" stroke=\"black\" points=\"364.98,-77 374.98,-73.5 364.98,-70 364.98,-77\"/>\n</g>\n<!-- 140253979382384 -->\n<g id=\"node3\" class=\"node\">\n<title>140253979382384</title>\n<polygon fill=\"none\" stroke=\"black\" points=\"4.5,-165.5 4.5,-201.5 244.5,-201.5 244.5,-165.5 4.5,-165.5\"/>\n<text text-anchor=\"middle\" x=\"21.5\" y=\"-179.8\" font-family=\"Times,serif\" font-size=\"14.00\">x2</text>\n<polyline fill=\"none\" stroke=\"black\" points=\"38.5,-165.5 38.5,-201.5 \"/>\n<text text-anchor=\"middle\" x=\"89.5\" y=\"-179.8\" font-family=\"Times,serif\" font-size=\"14.00\">data 0.0000</text>\n<polyline fill=\"none\" stroke=\"black\" points=\"140.5,-165.5 140.5,-201.5 \"/>\n<text text-anchor=\"middle\" x=\"192.5\" y=\"-179.8\" font-family=\"Times,serif\" font-size=\"14.00\">grad 0.0000</text>\n</g>\n<!-- 140253959316928* -->\n<g id=\"node15\" class=\"node\">\n<title>140253959316928*</title>\n<ellipse fill=\"none\" stroke=\"black\" cx=\"312\" cy=\"-128.5\" rx=\"27\" ry=\"18\"/>\n<text text-anchor=\"middle\" x=\"312\" y=\"-124.8\" font-family=\"Times,serif\" font-size=\"14.00\">*</text>\n</g>\n<!-- 140253979382384&#45;&gt;140253959316928* -->\n<g id=\"edge10\" class=\"edge\">\n<title>140253979382384&#45;&gt;140253959316928*</title>\n<path fill=\"none\" stroke=\"black\" d=\"M218.13,-165.46C228.63,-162.77 239.1,-159.78 249,-156.5 259.71,-152.96 271.05,-148.16 281.07,-143.54\"/>\n<polygon fill=\"black\" stroke=\"black\" points=\"282.67,-146.66 290.2,-139.21 279.67,-140.33 282.67,-146.66\"/>\n</g>\n<!-- 140253959312560 -->\n<g id=\"node4\" class=\"node\">\n<title>140253959312560</title>\n<polygon fill=\"none\" stroke=\"black\" points=\"1225,-109.5 1225,-145.5 1457,-145.5 1457,-109.5 1225,-109.5\"/>\n<text text-anchor=\"middle\" x=\"1238\" y=\"-123.8\" font-family=\"Times,serif\" font-size=\"14.00\">n</text>\n<polyline fill=\"none\" stroke=\"black\" points=\"1251,-109.5 1251,-145.5 \"/>\n<text text-anchor=\"middle\" x=\"1302\" y=\"-123.8\" font-family=\"Times,serif\" font-size=\"14.00\">data 0.8814</text>\n<polyline fill=\"none\" stroke=\"black\" points=\"1353,-109.5 1353,-145.5 \"/>\n<text text-anchor=\"middle\" x=\"1405\" y=\"-123.8\" font-family=\"Times,serif\" font-size=\"14.00\">grad 0.0000</text>\n</g>\n<!-- 140253959316352tanh -->\n<g id=\"node9\" class=\"node\">\n<title>140253959316352tanh</title>\n<ellipse fill=\"none\" stroke=\"black\" cx=\"1524.85\" cy=\"-127.5\" rx=\"31.7\" ry=\"18\"/>\n<text text-anchor=\"middle\" x=\"1524.85\" y=\"-123.8\" font-family=\"Times,serif\" font-size=\"14.00\">tanh</text>\n</g>\n<!-- 140253959312560&#45;&gt;140253959316352tanh -->\n<g id=\"edge9\" class=\"edge\">\n<title>140253959312560&#45;&gt;140253959316352tanh</title>\n<path fill=\"none\" stroke=\"black\" d=\"M1457.17,-127.5C1466.08,-127.5 1474.66,-127.5 1482.53,-127.5\"/>\n<polygon fill=\"black\" stroke=\"black\" points=\"1482.78,-131 1492.78,-127.5 1482.78,-124 1482.78,-131\"/>\n</g>\n<!-- 140253959312560+ -->\n<g id=\"node5\" class=\"node\">\n<title>140253959312560+</title>\n<ellipse fill=\"none\" stroke=\"black\" cx=\"1162\" cy=\"-127.5\" rx=\"27\" ry=\"18\"/>\n<text text-anchor=\"middle\" x=\"1162\" y=\"-123.8\" font-family=\"Times,serif\" font-size=\"14.00\">+</text>\n</g>\n<!-- 140253959312560+&#45;&gt;140253959312560 -->\n<g id=\"edge2\" class=\"edge\">\n<title>140253959312560+&#45;&gt;140253959312560</title>\n<path fill=\"none\" stroke=\"black\" d=\"M1189.12,-127.5C1196.53,-127.5 1205.14,-127.5 1214.4,-127.5\"/>\n<polygon fill=\"black\" stroke=\"black\" points=\"1214.69,-131 1224.69,-127.5 1214.69,-124 1214.69,-131\"/>\n</g>\n<!-- 140253964050416 -->\n<g id=\"node6\" class=\"node\">\n<title>140253964050416</title>\n<polygon fill=\"none\" stroke=\"black\" points=\"2.5,-110.5 2.5,-146.5 246.5,-146.5 246.5,-110.5 2.5,-110.5\"/>\n<text text-anchor=\"middle\" x=\"21.5\" y=\"-124.8\" font-family=\"Times,serif\" font-size=\"14.00\">w2</text>\n<polyline fill=\"none\" stroke=\"black\" points=\"40.5,-110.5 40.5,-146.5 \"/>\n<text text-anchor=\"middle\" x=\"91.5\" y=\"-124.8\" font-family=\"Times,serif\" font-size=\"14.00\">data 1.0000</text>\n<polyline fill=\"none\" stroke=\"black\" points=\"142.5,-110.5 142.5,-146.5 \"/>\n<text text-anchor=\"middle\" x=\"194.5\" y=\"-124.8\" font-family=\"Times,serif\" font-size=\"14.00\">grad 0.0000</text>\n</g>\n<!-- 140253964050416&#45;&gt;140253959316928* -->\n<g id=\"edge11\" class=\"edge\">\n<title>140253964050416&#45;&gt;140253959316928*</title>\n<path fill=\"none\" stroke=\"black\" d=\"M246.64,-128.5C256.7,-128.5 266.26,-128.5 274.79,-128.5\"/>\n<polygon fill=\"black\" stroke=\"black\" points=\"275,-132 285,-128.5 275,-125 275,-132\"/>\n</g>\n<!-- 140253946855632 -->\n<g id=\"node7\" class=\"node\">\n<title>140253946855632</title>\n<polygon fill=\"none\" stroke=\"black\" points=\"820.5,-137.5 820.5,-173.5 1052.5,-173.5 1052.5,-137.5 820.5,-137.5\"/>\n<text text-anchor=\"middle\" x=\"833.5\" y=\"-151.8\" font-family=\"Times,serif\" font-size=\"14.00\">b</text>\n<polyline fill=\"none\" stroke=\"black\" points=\"846.5,-137.5 846.5,-173.5 \"/>\n<text text-anchor=\"middle\" x=\"897.5\" y=\"-151.8\" font-family=\"Times,serif\" font-size=\"14.00\">data 6.8814</text>\n<polyline fill=\"none\" stroke=\"black\" points=\"948.5,-137.5 948.5,-173.5 \"/>\n<text text-anchor=\"middle\" x=\"1000.5\" y=\"-151.8\" font-family=\"Times,serif\" font-size=\"14.00\">grad 0.0000</text>\n</g>\n<!-- 140253946855632&#45;&gt;140253959312560+ -->\n<g id=\"edge6\" class=\"edge\">\n<title>140253946855632&#45;&gt;140253959312560+</title>\n<path fill=\"none\" stroke=\"black\" d=\"M1052.52,-141.09C1079,-137.77 1105.23,-134.49 1125.26,-131.98\"/>\n<polygon fill=\"black\" stroke=\"black\" points=\"1125.94,-135.42 1135.43,-130.7 1125.07,-128.47 1125.94,-135.42\"/>\n</g>\n<!-- 140253959316352 -->\n<g id=\"node8\" class=\"node\">\n<title>140253959316352</title>\n<polygon fill=\"none\" stroke=\"black\" points=\"1592.69,-109.5 1592.69,-145.5 1823.69,-145.5 1823.69,-109.5 1592.69,-109.5\"/>\n<text text-anchor=\"middle\" x=\"1605.19\" y=\"-123.8\" font-family=\"Times,serif\" font-size=\"14.00\">o</text>\n<polyline fill=\"none\" stroke=\"black\" points=\"1617.69,-109.5 1617.69,-145.5 \"/>\n<text text-anchor=\"middle\" x=\"1668.69\" y=\"-123.8\" font-family=\"Times,serif\" font-size=\"14.00\">data 0.7071</text>\n<polyline fill=\"none\" stroke=\"black\" points=\"1719.69,-109.5 1719.69,-145.5 \"/>\n<text text-anchor=\"middle\" x=\"1771.69\" y=\"-123.8\" font-family=\"Times,serif\" font-size=\"14.00\">grad 0.0000</text>\n</g>\n<!-- 140253959316352tanh&#45;&gt;140253959316352 -->\n<g id=\"edge3\" class=\"edge\">\n<title>140253959316352tanh&#45;&gt;140253959316352</title>\n<path fill=\"none\" stroke=\"black\" d=\"M1557.02,-127.5C1564.61,-127.5 1573.19,-127.5 1582.31,-127.5\"/>\n<polygon fill=\"black\" stroke=\"black\" points=\"1582.4,-131 1592.4,-127.5 1582.4,-124 1582.4,-131\"/>\n</g>\n<!-- 140253963470736 -->\n<g id=\"node10\" class=\"node\">\n<title>140253963470736</title>\n<polygon fill=\"none\" stroke=\"black\" points=\"0,-55.5 0,-91.5 249,-91.5 249,-55.5 0,-55.5\"/>\n<text text-anchor=\"middle\" x=\"19\" y=\"-69.8\" font-family=\"Times,serif\" font-size=\"14.00\">w1</text>\n<polyline fill=\"none\" stroke=\"black\" points=\"38,-55.5 38,-91.5 \"/>\n<text text-anchor=\"middle\" x=\"91.5\" y=\"-69.8\" font-family=\"Times,serif\" font-size=\"14.00\">data &#45;3.0000</text>\n<polyline fill=\"none\" stroke=\"black\" points=\"145,-55.5 145,-91.5 \"/>\n<text text-anchor=\"middle\" x=\"197\" y=\"-69.8\" font-family=\"Times,serif\" font-size=\"14.00\">grad 0.0000</text>\n</g>\n<!-- 140253963470736&#45;&gt;140253959158848* -->\n<g id=\"edge8\" class=\"edge\">\n<title>140253963470736&#45;&gt;140253959158848*</title>\n<path fill=\"none\" stroke=\"black\" d=\"M249.23,-73.5C258.37,-73.5 267.05,-73.5 274.87,-73.5\"/>\n<polygon fill=\"black\" stroke=\"black\" points=\"274.95,-77 284.95,-73.5 274.95,-70 274.95,-77\"/>\n</g>\n<!-- 140253964190624 -->\n<g id=\"node11\" class=\"node\">\n<title>140253964190624</title>\n<polygon fill=\"none\" stroke=\"black\" points=\"4.5,-0.5 4.5,-36.5 244.5,-36.5 244.5,-0.5 4.5,-0.5\"/>\n<text text-anchor=\"middle\" x=\"21.5\" y=\"-14.8\" font-family=\"Times,serif\" font-size=\"14.00\">x1</text>\n<polyline fill=\"none\" stroke=\"black\" points=\"38.5,-0.5 38.5,-36.5 \"/>\n<text text-anchor=\"middle\" x=\"89.5\" y=\"-14.8\" font-family=\"Times,serif\" font-size=\"14.00\">data 2.0000</text>\n<polyline fill=\"none\" stroke=\"black\" points=\"140.5,-0.5 140.5,-36.5 \"/>\n<text text-anchor=\"middle\" x=\"192.5\" y=\"-14.8\" font-family=\"Times,serif\" font-size=\"14.00\">grad 0.0000</text>\n</g>\n<!-- 140253964190624&#45;&gt;140253959158848* -->\n<g id=\"edge14\" class=\"edge\">\n<title>140253964190624&#45;&gt;140253959158848*</title>\n<path fill=\"none\" stroke=\"black\" d=\"M214.42,-36.55C226.15,-39.54 237.93,-42.87 249,-46.5 259.46,-49.93 270.57,-54.47 280.46,-58.84\"/>\n<polygon fill=\"black\" stroke=\"black\" points=\"279.31,-62.17 289.87,-63.12 282.21,-55.79 279.31,-62.17\"/>\n</g>\n<!-- 140253959312320 -->\n<g id=\"node12\" class=\"node\">\n<title>140253959312320</title>\n<polygon fill=\"none\" stroke=\"black\" points=\"774,-82.5 774,-118.5 1099,-118.5 1099,-82.5 774,-82.5\"/>\n<text text-anchor=\"middle\" x=\"831\" y=\"-96.8\" font-family=\"Times,serif\" font-size=\"14.00\">x1w1 + x2w2</text>\n<polyline fill=\"none\" stroke=\"black\" points=\"888,-82.5 888,-118.5 \"/>\n<text text-anchor=\"middle\" x=\"941.5\" y=\"-96.8\" font-family=\"Times,serif\" font-size=\"14.00\">data &#45;6.0000</text>\n<polyline fill=\"none\" stroke=\"black\" points=\"995,-82.5 995,-118.5 \"/>\n<text text-anchor=\"middle\" x=\"1047\" y=\"-96.8\" font-family=\"Times,serif\" font-size=\"14.00\">grad 0.0000</text>\n</g>\n<!-- 140253959312320&#45;&gt;140253959312560+ -->\n<g id=\"edge7\" class=\"edge\">\n<title>140253959312320&#45;&gt;140253959312560+</title>\n<path fill=\"none\" stroke=\"black\" d=\"M1086.58,-118.51C1100.66,-120.21 1113.84,-121.8 1125.09,-123.16\"/>\n<polygon fill=\"black\" stroke=\"black\" points=\"1124.89,-126.66 1135.24,-124.39 1125.73,-119.71 1124.89,-126.66\"/>\n</g>\n<!-- 140253959312320+&#45;&gt;140253959312320 -->\n<g id=\"edge4\" class=\"edge\">\n<title>140253959312320+&#45;&gt;140253959312320</title>\n<path fill=\"none\" stroke=\"black\" d=\"M738.08,-100.5C745.51,-100.5 754.21,-100.5 763.74,-100.5\"/>\n<polygon fill=\"black\" stroke=\"black\" points=\"763.95,-104 773.95,-100.5 763.95,-97 763.95,-104\"/>\n</g>\n<!-- 140253959316928 -->\n<g id=\"node14\" class=\"node\">\n<title>140253959316928</title>\n<polygon fill=\"none\" stroke=\"black\" points=\"377.5,-110.5 377.5,-146.5 645.5,-146.5 645.5,-110.5 377.5,-110.5\"/>\n<text text-anchor=\"middle\" x=\"408.5\" y=\"-124.8\" font-family=\"Times,serif\" font-size=\"14.00\">x2*w2</text>\n<polyline fill=\"none\" stroke=\"black\" points=\"439.5,-110.5 439.5,-146.5 \"/>\n<text text-anchor=\"middle\" x=\"490.5\" y=\"-124.8\" font-family=\"Times,serif\" font-size=\"14.00\">data 0.0000</text>\n<polyline fill=\"none\" stroke=\"black\" points=\"541.5,-110.5 541.5,-146.5 \"/>\n<text text-anchor=\"middle\" x=\"593.5\" y=\"-124.8\" font-family=\"Times,serif\" font-size=\"14.00\">grad 0.0000</text>\n</g>\n<!-- 140253959316928&#45;&gt;140253959312320+ -->\n<g id=\"edge13\" class=\"edge\">\n<title>140253959316928&#45;&gt;140253959312320+</title>\n<path fill=\"none\" stroke=\"black\" d=\"M639.53,-110.49C652.09,-108.71 663.99,-107.02 674.3,-105.56\"/>\n<polygon fill=\"black\" stroke=\"black\" points=\"675.03,-108.99 684.44,-104.12 674.05,-102.06 675.03,-108.99\"/>\n</g>\n<!-- 140253959316928*&#45;&gt;140253959316928 -->\n<g id=\"edge5\" class=\"edge\">\n<title>140253959316928*&#45;&gt;140253959316928</title>\n<path fill=\"none\" stroke=\"black\" d=\"M339.23,-128.5C347.26,-128.5 356.72,-128.5 366.99,-128.5\"/>\n<polygon fill=\"black\" stroke=\"black\" points=\"367.08,-132 377.08,-128.5 367.08,-125 367.08,-132\"/>\n</g>\n</g>\n</svg>\n",
      "text/plain": [
       "<graphviz.graphs.Digraph at 0x7f8f6b69f4f0>"
      ]
     },
     "execution_count": 212,
     "metadata": {},
     "output_type": "execute_result"
    }
   ],
   "source": [
    "draw_dot(o)"
   ]
  },
  {
   "cell_type": "code",
   "execution_count": 213,
   "metadata": {},
   "outputs": [],
   "source": [
    "x1.grad = w1.data * x1w1.grad\n",
    "w1.grad = x1.data * x1w1.grad"
   ]
  },
  {
   "cell_type": "code",
   "execution_count": 214,
   "metadata": {},
   "outputs": [],
   "source": [
    "x2.grad = w2.data * x2w2.grad\n",
    "w2.grad = x2.data * x2w2.grad"
   ]
  },
  {
   "cell_type": "code",
   "execution_count": 215,
   "metadata": {},
   "outputs": [],
   "source": [
    "x1w1.grad = 0.5\n",
    "x2w2.grad = 0.5"
   ]
  },
  {
   "cell_type": "code",
   "execution_count": 216,
   "metadata": {},
   "outputs": [],
   "source": [
    "x1w1x2w2.grad = 0.5\n",
    "b.grad = 0.5"
   ]
  },
  {
   "cell_type": "code",
   "execution_count": 217,
   "metadata": {},
   "outputs": [],
   "source": [
    "n.grad = 0.5 # 1 = o.data**2"
   ]
  },
  {
   "cell_type": "code",
   "execution_count": 218,
   "metadata": {},
   "outputs": [],
   "source": [
    "o.grad = 1.0\n"
   ]
  },
  {
   "attachments": {},
   "cell_type": "markdown",
   "metadata": {},
   "source": [
    "o = tanh(n)\n",
    "\n",
    "do/dn = 1 - o**2"
   ]
  },
  {
   "attachments": {},
   "cell_type": "markdown",
   "metadata": {
    "tags": [
     "Automatic backpropagation"
    ]
   },
   "source": [
    "# Manual backpropagation\n",
    "\n",
    "Backward propagation has been implemented, so we can manually call it starting from top node, which is `o` in this case"
   ]
  },
  {
   "cell_type": "code",
   "execution_count": 219,
   "metadata": {},
   "outputs": [],
   "source": [
    "\n",
    "o.grad = 1.0\n"
   ]
  },
  {
   "cell_type": "code",
   "execution_count": 220,
   "metadata": {},
   "outputs": [],
   "source": [
    "o._backward()"
   ]
  },
  {
   "cell_type": "code",
   "execution_count": 221,
   "metadata": {},
   "outputs": [],
   "source": [
    "n._backward()"
   ]
  },
  {
   "cell_type": "code",
   "execution_count": 222,
   "metadata": {},
   "outputs": [],
   "source": [
    "b._backward()"
   ]
  },
  {
   "cell_type": "code",
   "execution_count": 223,
   "metadata": {},
   "outputs": [],
   "source": [
    "x1w1x2w2._backward()"
   ]
  },
  {
   "cell_type": "code",
   "execution_count": 224,
   "metadata": {},
   "outputs": [],
   "source": [
    "x1w1._backward()"
   ]
  },
  {
   "cell_type": "code",
   "execution_count": 225,
   "metadata": {},
   "outputs": [],
   "source": [
    "x2w2._backward()"
   ]
  },
  {
   "cell_type": "code",
   "execution_count": null,
   "metadata": {},
   "outputs": [],
   "source": []
  },
  {
   "attachments": {},
   "cell_type": "markdown",
   "metadata": {},
   "source": [
    "# Automatic backpropagation"
   ]
  },
  {
   "cell_type": "code",
   "execution_count": 226,
   "metadata": {},
   "outputs": [],
   "source": [
    "o.backward()"
   ]
  },
  {
   "cell_type": "code",
   "execution_count": 227,
   "metadata": {},
   "outputs": [
    {
     "data": {
      "text/plain": [
       "[Value(data=-3.0),\n",
       " Value(data=2.0),\n",
       " Value(data=-6.0),\n",
       " Value(data=1.0),\n",
       " Value(data=0.0),\n",
       " Value(data=0.0),\n",
       " Value(data=-6.0),\n",
       " Value(data=6.8813735),\n",
       " Value(data=0.8813734999999996),\n",
       " Value(data=0.7071067376767731)]"
      ]
     },
     "execution_count": 227,
     "metadata": {},
     "output_type": "execute_result"
    }
   ],
   "source": [
    "# topological sort\n",
    "topo = []\n",
    "visited = set()\n",
    "def build_topo(v):\n",
    "    if v not in visited:\n",
    "        visited.add(v)\n",
    "        for child in v._prev:\n",
    "            build_topo(child)\n",
    "        topo.append(v)\n",
    "build_topo(o)\n",
    "topo"
   ]
  },
  {
   "cell_type": "code",
   "execution_count": 228,
   "metadata": {},
   "outputs": [
    {
     "data": {
      "image/svg+xml": "<?xml version=\"1.0\" encoding=\"UTF-8\" standalone=\"no\"?>\n<!DOCTYPE svg PUBLIC \"-//W3C//DTD SVG 1.1//EN\"\n \"http://www.w3.org/Graphics/SVG/1.1/DTD/svg11.dtd\">\n<!-- Generated by graphviz version 5.0.0 (20220707.2338)\n -->\n<!-- Pages: 1 -->\n<svg width=\"597pt\" height=\"45pt\"\n viewBox=\"0.00 0.00 597.00 45.00\" xmlns=\"http://www.w3.org/2000/svg\" xmlns:xlink=\"http://www.w3.org/1999/xlink\">\n<g id=\"graph0\" class=\"graph\" transform=\"scale(1 1) rotate(0) translate(4 41)\">\n<polygon fill=\"white\" stroke=\"transparent\" points=\"-4,4 -4,-41 593,-41 593,4 -4,4\"/>\n<!-- 140253963738016 -->\n<g id=\"node1\" class=\"node\">\n<title>140253963738016</title>\n<polygon fill=\"none\" stroke=\"black\" points=\"357,-0.5 357,-36.5 589,-36.5 589,-0.5 357,-0.5\"/>\n<text text-anchor=\"middle\" x=\"370\" y=\"-14.8\" font-family=\"Times,serif\" font-size=\"14.00\">b</text>\n<polyline fill=\"none\" stroke=\"black\" points=\"383,-0.5 383,-36.5 \"/>\n<text text-anchor=\"middle\" x=\"434\" y=\"-14.8\" font-family=\"Times,serif\" font-size=\"14.00\">data 6.0000</text>\n<polyline fill=\"none\" stroke=\"black\" points=\"485,-0.5 485,-36.5 \"/>\n<text text-anchor=\"middle\" x=\"537\" y=\"-14.8\" font-family=\"Times,serif\" font-size=\"14.00\">grad 1.0000</text>\n</g>\n<!-- 140253963738016+ -->\n<g id=\"node2\" class=\"node\">\n<title>140253963738016+</title>\n<ellipse fill=\"none\" stroke=\"black\" cx=\"294\" cy=\"-18.5\" rx=\"27\" ry=\"18\"/>\n<text text-anchor=\"middle\" x=\"294\" y=\"-14.8\" font-family=\"Times,serif\" font-size=\"14.00\">+</text>\n</g>\n<!-- 140253963738016+&#45;&gt;140253963738016 -->\n<g id=\"edge1\" class=\"edge\">\n<title>140253963738016+&#45;&gt;140253963738016</title>\n<path fill=\"none\" stroke=\"black\" d=\"M321.12,-18.5C328.53,-18.5 337.14,-18.5 346.4,-18.5\"/>\n<polygon fill=\"black\" stroke=\"black\" points=\"346.69,-22 356.69,-18.5 346.69,-15 346.69,-22\"/>\n</g>\n<!-- 140253959157312 -->\n<g id=\"node3\" class=\"node\">\n<title>140253959157312</title>\n<polygon fill=\"none\" stroke=\"black\" points=\"0,-0.5 0,-36.5 231,-36.5 231,-0.5 0,-0.5\"/>\n<text text-anchor=\"middle\" x=\"12.5\" y=\"-14.8\" font-family=\"Times,serif\" font-size=\"14.00\">a</text>\n<polyline fill=\"none\" stroke=\"black\" points=\"25,-0.5 25,-36.5 \"/>\n<text text-anchor=\"middle\" x=\"76\" y=\"-14.8\" font-family=\"Times,serif\" font-size=\"14.00\">data 3.0000</text>\n<polyline fill=\"none\" stroke=\"black\" points=\"127,-0.5 127,-36.5 \"/>\n<text text-anchor=\"middle\" x=\"179\" y=\"-14.8\" font-family=\"Times,serif\" font-size=\"14.00\">grad 2.0000</text>\n</g>\n<!-- 140253959157312&#45;&gt;140253963738016+ -->\n<g id=\"edge2\" class=\"edge\">\n<title>140253959157312&#45;&gt;140253963738016+</title>\n<path fill=\"none\" stroke=\"black\" d=\"M231.27,-18.5C240.32,-18.5 248.97,-18.5 256.76,-18.5\"/>\n<polygon fill=\"black\" stroke=\"black\" points=\"256.84,-22 266.84,-18.5 256.84,-15 256.84,-22\"/>\n</g>\n</g>\n</svg>\n",
      "text/plain": [
       "<graphviz.graphs.Digraph at 0x7f8f6b69fbb0>"
      ]
     },
     "execution_count": 228,
     "metadata": {},
     "output_type": "execute_result"
    }
   ],
   "source": [
    "a = Value(3.0, label='a')\n",
    "b = a + a; b.label = 'b'\n",
    "b.backward()\n",
    "draw_dot(b)"
   ]
  },
  {
   "cell_type": "code",
   "execution_count": 229,
   "metadata": {},
   "outputs": [
    {
     "data": {
      "image/svg+xml": "<?xml version=\"1.0\" encoding=\"UTF-8\" standalone=\"no\"?>\n<!DOCTYPE svg PUBLIC \"-//W3C//DTD SVG 1.1//EN\"\n \"http://www.w3.org/Graphics/SVG/1.1/DTD/svg11.dtd\">\n<!-- Generated by graphviz version 5.0.0 (20220707.2338)\n -->\n<!-- Pages: 1 -->\n<svg width=\"970pt\" height=\"100pt\"\n viewBox=\"0.00 0.00 970.00 100.00\" xmlns=\"http://www.w3.org/2000/svg\" xmlns:xlink=\"http://www.w3.org/1999/xlink\">\n<g id=\"graph0\" class=\"graph\" transform=\"scale(1 1) rotate(0) translate(4 96)\">\n<polygon fill=\"white\" stroke=\"transparent\" points=\"-4,4 -4,-96 966,-96 966,4 -4,4\"/>\n<!-- 140253959317504 -->\n<g id=\"node1\" class=\"node\">\n<title>140253959317504</title>\n<polygon fill=\"none\" stroke=\"black\" points=\"729,-27.5 729,-63.5 962,-63.5 962,-27.5 729,-27.5\"/>\n<text text-anchor=\"middle\" x=\"740\" y=\"-41.8\" font-family=\"Times,serif\" font-size=\"14.00\">f</text>\n<polyline fill=\"none\" stroke=\"black\" points=\"751,-27.5 751,-63.5 \"/>\n<text text-anchor=\"middle\" x=\"804.5\" y=\"-41.8\" font-family=\"Times,serif\" font-size=\"14.00\">data &#45;6.0000</text>\n<polyline fill=\"none\" stroke=\"black\" points=\"858,-27.5 858,-63.5 \"/>\n<text text-anchor=\"middle\" x=\"910\" y=\"-41.8\" font-family=\"Times,serif\" font-size=\"14.00\">grad 1.0000</text>\n</g>\n<!-- 140253959317504* -->\n<g id=\"node2\" class=\"node\">\n<title>140253959317504*</title>\n<ellipse fill=\"none\" stroke=\"black\" cx=\"666\" cy=\"-45.5\" rx=\"27\" ry=\"18\"/>\n<text text-anchor=\"middle\" x=\"666\" y=\"-41.8\" font-family=\"Times,serif\" font-size=\"14.00\">*</text>\n</g>\n<!-- 140253959317504*&#45;&gt;140253959317504 -->\n<g id=\"edge1\" class=\"edge\">\n<title>140253959317504*&#45;&gt;140253959317504</title>\n<path fill=\"none\" stroke=\"black\" d=\"M693.19,-45.5C700.71,-45.5 709.44,-45.5 718.84,-45.5\"/>\n<polygon fill=\"black\" stroke=\"black\" points=\"718.87,-49 728.87,-45.5 718.87,-42 718.87,-49\"/>\n</g>\n<!-- 140253959158512 -->\n<g id=\"node3\" class=\"node\">\n<title>140253959158512</title>\n<polygon fill=\"none\" stroke=\"black\" points=\"0,-55.5 0,-91.5 240,-91.5 240,-55.5 0,-55.5\"/>\n<text text-anchor=\"middle\" x=\"12.5\" y=\"-69.8\" font-family=\"Times,serif\" font-size=\"14.00\">a</text>\n<polyline fill=\"none\" stroke=\"black\" points=\"25,-55.5 25,-91.5 \"/>\n<text text-anchor=\"middle\" x=\"78.5\" y=\"-69.8\" font-family=\"Times,serif\" font-size=\"14.00\">data &#45;2.0000</text>\n<polyline fill=\"none\" stroke=\"black\" points=\"132,-55.5 132,-91.5 \"/>\n<text text-anchor=\"middle\" x=\"186\" y=\"-69.8\" font-family=\"Times,serif\" font-size=\"14.00\">grad &#45;3.0000</text>\n</g>\n<!-- 140253959312128* -->\n<g id=\"node5\" class=\"node\">\n<title>140253959312128*</title>\n<ellipse fill=\"none\" stroke=\"black\" cx=\"303\" cy=\"-73.5\" rx=\"27\" ry=\"18\"/>\n<text text-anchor=\"middle\" x=\"303\" y=\"-69.8\" font-family=\"Times,serif\" font-size=\"14.00\">*</text>\n</g>\n<!-- 140253959158512&#45;&gt;140253959312128* -->\n<g id=\"edge5\" class=\"edge\">\n<title>140253959158512&#45;&gt;140253959312128*</title>\n<path fill=\"none\" stroke=\"black\" d=\"M240.22,-73.5C249.32,-73.5 257.99,-73.5 265.8,-73.5\"/>\n<polygon fill=\"black\" stroke=\"black\" points=\"265.88,-77 275.88,-73.5 265.88,-70 265.88,-77\"/>\n</g>\n<!-- 140253959315392+ -->\n<g id=\"node8\" class=\"node\">\n<title>140253959315392+</title>\n<ellipse fill=\"none\" stroke=\"black\" cx=\"303\" cy=\"-18.5\" rx=\"27\" ry=\"18\"/>\n<text text-anchor=\"middle\" x=\"303\" y=\"-14.8\" font-family=\"Times,serif\" font-size=\"14.00\">+</text>\n</g>\n<!-- 140253959158512&#45;&gt;140253959315392+ -->\n<g id=\"edge9\" class=\"edge\">\n<title>140253959158512&#45;&gt;140253959315392+</title>\n<path fill=\"none\" stroke=\"black\" d=\"M209.61,-55.48C219.94,-52.77 230.26,-49.77 240,-46.5 250.69,-42.91 262.03,-38.11 272.05,-33.49\"/>\n<polygon fill=\"black\" stroke=\"black\" points=\"273.65,-36.61 281.19,-29.17 270.65,-30.28 273.65,-36.61\"/>\n</g>\n<!-- 140253959312128 -->\n<g id=\"node4\" class=\"node\">\n<title>140253959312128</title>\n<polygon fill=\"none\" stroke=\"black\" points=\"366,-55.5 366,-91.5 603,-91.5 603,-55.5 366,-55.5\"/>\n<text text-anchor=\"middle\" x=\"379\" y=\"-69.8\" font-family=\"Times,serif\" font-size=\"14.00\">d</text>\n<polyline fill=\"none\" stroke=\"black\" points=\"392,-55.5 392,-91.5 \"/>\n<text text-anchor=\"middle\" x=\"445.5\" y=\"-69.8\" font-family=\"Times,serif\" font-size=\"14.00\">data &#45;6.0000</text>\n<polyline fill=\"none\" stroke=\"black\" points=\"499,-55.5 499,-91.5 \"/>\n<text text-anchor=\"middle\" x=\"551\" y=\"-69.8\" font-family=\"Times,serif\" font-size=\"14.00\">grad 1.0000</text>\n</g>\n<!-- 140253959312128&#45;&gt;140253959317504* -->\n<g id=\"edge6\" class=\"edge\">\n<title>140253959312128&#45;&gt;140253959317504*</title>\n<path fill=\"none\" stroke=\"black\" d=\"M600.96,-55.49C611.12,-53.91 620.8,-52.4 629.41,-51.05\"/>\n<polygon fill=\"black\" stroke=\"black\" points=\"630.02,-54.5 639.36,-49.5 628.94,-47.58 630.02,-54.5\"/>\n</g>\n<!-- 140253959312128*&#45;&gt;140253959312128 -->\n<g id=\"edge2\" class=\"edge\">\n<title>140253959312128*&#45;&gt;140253959312128</title>\n<path fill=\"none\" stroke=\"black\" d=\"M330.1,-73.5C337.61,-73.5 346.33,-73.5 355.75,-73.5\"/>\n<polygon fill=\"black\" stroke=\"black\" points=\"355.78,-77 365.78,-73.5 355.78,-70 355.78,-77\"/>\n</g>\n<!-- 140253959159568 -->\n<g id=\"node6\" class=\"node\">\n<title>140253959159568</title>\n<polygon fill=\"none\" stroke=\"black\" points=\"2,-0.5 2,-36.5 238,-36.5 238,-0.5 2,-0.5\"/>\n<text text-anchor=\"middle\" x=\"15\" y=\"-14.8\" font-family=\"Times,serif\" font-size=\"14.00\">b</text>\n<polyline fill=\"none\" stroke=\"black\" points=\"28,-0.5 28,-36.5 \"/>\n<text text-anchor=\"middle\" x=\"79\" y=\"-14.8\" font-family=\"Times,serif\" font-size=\"14.00\">data 3.0000</text>\n<polyline fill=\"none\" stroke=\"black\" points=\"130,-0.5 130,-36.5 \"/>\n<text text-anchor=\"middle\" x=\"184\" y=\"-14.8\" font-family=\"Times,serif\" font-size=\"14.00\">grad &#45;8.0000</text>\n</g>\n<!-- 140253959159568&#45;&gt;140253959312128* -->\n<g id=\"edge7\" class=\"edge\">\n<title>140253959159568&#45;&gt;140253959312128*</title>\n<path fill=\"none\" stroke=\"black\" d=\"M206.03,-36.54C217.54,-39.55 229.12,-42.88 240,-46.5 250.44,-49.97 261.55,-54.52 271.44,-58.89\"/>\n<polygon fill=\"black\" stroke=\"black\" points=\"270.3,-62.22 280.85,-63.16 273.19,-55.84 270.3,-62.22\"/>\n</g>\n<!-- 140253959159568&#45;&gt;140253959315392+ -->\n<g id=\"edge4\" class=\"edge\">\n<title>140253959159568&#45;&gt;140253959315392+</title>\n<path fill=\"none\" stroke=\"black\" d=\"M238.19,-18.5C248.03,-18.5 257.41,-18.5 265.8,-18.5\"/>\n<polygon fill=\"black\" stroke=\"black\" points=\"265.87,-22 275.87,-18.5 265.87,-15 265.87,-22\"/>\n</g>\n<!-- 140253959315392 -->\n<g id=\"node7\" class=\"node\">\n<title>140253959315392</title>\n<polygon fill=\"none\" stroke=\"black\" points=\"367,-0.5 367,-36.5 602,-36.5 602,-0.5 367,-0.5\"/>\n<text text-anchor=\"middle\" x=\"379.5\" y=\"-14.8\" font-family=\"Times,serif\" font-size=\"14.00\">e</text>\n<polyline fill=\"none\" stroke=\"black\" points=\"392,-0.5 392,-36.5 \"/>\n<text text-anchor=\"middle\" x=\"443\" y=\"-14.8\" font-family=\"Times,serif\" font-size=\"14.00\">data 1.0000</text>\n<polyline fill=\"none\" stroke=\"black\" points=\"494,-0.5 494,-36.5 \"/>\n<text text-anchor=\"middle\" x=\"548\" y=\"-14.8\" font-family=\"Times,serif\" font-size=\"14.00\">grad &#45;6.0000</text>\n</g>\n<!-- 140253959315392&#45;&gt;140253959317504* -->\n<g id=\"edge8\" class=\"edge\">\n<title>140253959315392&#45;&gt;140253959317504*</title>\n<path fill=\"none\" stroke=\"black\" d=\"M602.22,-36.06C611.92,-37.52 621.15,-38.9 629.41,-40.15\"/>\n<polygon fill=\"black\" stroke=\"black\" points=\"628.9,-43.61 639.31,-41.64 629.94,-36.69 628.9,-43.61\"/>\n</g>\n<!-- 140253959315392+&#45;&gt;140253959315392 -->\n<g id=\"edge3\" class=\"edge\">\n<title>140253959315392+&#45;&gt;140253959315392</title>\n<path fill=\"none\" stroke=\"black\" d=\"M330.1,-18.5C337.9,-18.5 347.03,-18.5 356.87,-18.5\"/>\n<polygon fill=\"black\" stroke=\"black\" points=\"356.93,-22 366.93,-18.5 356.93,-15 356.93,-22\"/>\n</g>\n</g>\n</svg>\n",
      "text/plain": [
       "<graphviz.graphs.Digraph at 0x7f8f6b69ff40>"
      ]
     },
     "execution_count": 229,
     "metadata": {},
     "output_type": "execute_result"
    }
   ],
   "source": [
    "a = Value(-2.0, label='a')\n",
    "b = Value(3.0, label='b')\n",
    "d = a * b; d.label = 'd'\n",
    "e = a + b; e.label = 'e'\n",
    "f = d * e; f.label = 'f'\n",
    "\n",
    "f.backward()\n",
    "\n",
    "draw_dot(f)"
   ]
  },
  {
   "attachments": {},
   "cell_type": "markdown",
   "metadata": {},
   "source": [
    "# Implement exp, sub, div etc"
   ]
  },
  {
   "cell_type": "code",
   "execution_count": 230,
   "metadata": {},
   "outputs": [
    {
     "data": {
      "text/plain": [
       "Value(data=3.0)"
      ]
     },
     "execution_count": 230,
     "metadata": {},
     "output_type": "execute_result"
    }
   ],
   "source": [
    "a = Value(2.0, label='a')\n",
    "1 + a"
   ]
  },
  {
   "cell_type": "code",
   "execution_count": 231,
   "metadata": {},
   "outputs": [
    {
     "data": {
      "text/plain": [
       "Value(data=4.0)"
      ]
     },
     "execution_count": 231,
     "metadata": {},
     "output_type": "execute_result"
    }
   ],
   "source": [
    "a = Value(2.0, label='a')\n",
    "2 * a"
   ]
  },
  {
   "cell_type": "code",
   "execution_count": 232,
   "metadata": {},
   "outputs": [
    {
     "data": {
      "text/plain": [
       "Value(data=7.38905609893065)"
      ]
     },
     "execution_count": 232,
     "metadata": {},
     "output_type": "execute_result"
    }
   ],
   "source": [
    "a = Value(2.0)\n",
    "a.exp()"
   ]
  },
  {
   "cell_type": "code",
   "execution_count": 233,
   "metadata": {},
   "outputs": [
    {
     "data": {
      "text/plain": [
       "Value(data=0.6666666666666666)"
      ]
     },
     "execution_count": 233,
     "metadata": {},
     "output_type": "execute_result"
    }
   ],
   "source": [
    "a = Value(2.0)\n",
    "b = Value(3.0)\n",
    "a / b"
   ]
  },
  {
   "cell_type": "code",
   "execution_count": 234,
   "metadata": {},
   "outputs": [
    {
     "data": {
      "text/plain": [
       "Value(data=0.6666666666666666)"
      ]
     },
     "execution_count": 234,
     "metadata": {},
     "output_type": "execute_result"
    }
   ],
   "source": [
    "a / b\n",
    "a * (1/b)\n",
    "a * (b**-1)"
   ]
  },
  {
   "attachments": {},
   "cell_type": "markdown",
   "metadata": {},
   "source": [
    "## Change how we define tanh\n",
    "will be using exp, add, sub, div"
   ]
  },
  {
   "cell_type": "code",
   "execution_count": 235,
   "metadata": {},
   "outputs": [
    {
     "data": {
      "image/svg+xml": "<?xml version=\"1.0\" encoding=\"UTF-8\" standalone=\"no\"?>\n<!DOCTYPE svg PUBLIC \"-//W3C//DTD SVG 1.1//EN\"\n \"http://www.w3.org/Graphics/SVG/1.1/DTD/svg11.dtd\">\n<!-- Generated by graphviz version 5.0.0 (20220707.2338)\n -->\n<!-- Pages: 1 -->\n<svg width=\"3421pt\" height=\"264pt\"\n viewBox=\"0.00 0.00 3420.60 264.00\" xmlns=\"http://www.w3.org/2000/svg\" xmlns:xlink=\"http://www.w3.org/1999/xlink\">\n<g id=\"graph0\" class=\"graph\" transform=\"scale(1 1) rotate(0) translate(4 260)\">\n<polygon fill=\"white\" stroke=\"transparent\" points=\"-4,4 -4,-260 3416.6,-260 3416.6,4 -4,4\"/>\n<!-- 140253959316064 -->\n<g id=\"node1\" class=\"node\">\n<title>140253959316064</title>\n<polygon fill=\"none\" stroke=\"black\" points=\"377.5,-55.5 377.5,-91.5 645.5,-91.5 645.5,-55.5 377.5,-55.5\"/>\n<text text-anchor=\"middle\" x=\"408.5\" y=\"-69.8\" font-family=\"Times,serif\" font-size=\"14.00\">x2*w2</text>\n<polyline fill=\"none\" stroke=\"black\" points=\"439.5,-55.5 439.5,-91.5 \"/>\n<text text-anchor=\"middle\" x=\"490.5\" y=\"-69.8\" font-family=\"Times,serif\" font-size=\"14.00\">data 0.0000</text>\n<polyline fill=\"none\" stroke=\"black\" points=\"541.5,-55.5 541.5,-91.5 \"/>\n<text text-anchor=\"middle\" x=\"593.5\" y=\"-69.8\" font-family=\"Times,serif\" font-size=\"14.00\">grad 0.5000</text>\n</g>\n<!-- 140253959318512+ -->\n<g id=\"node5\" class=\"node\">\n<title>140253959318512+</title>\n<ellipse fill=\"none\" stroke=\"black\" cx=\"711\" cy=\"-100.5\" rx=\"27\" ry=\"18\"/>\n<text text-anchor=\"middle\" x=\"711\" y=\"-96.8\" font-family=\"Times,serif\" font-size=\"14.00\">+</text>\n</g>\n<!-- 140253959316064&#45;&gt;140253959318512+ -->\n<g id=\"edge16\" class=\"edge\">\n<title>140253959316064&#45;&gt;140253959318512+</title>\n<path fill=\"none\" stroke=\"black\" d=\"M644.24,-91.51C655.12,-93 665.4,-94.4 674.45,-95.64\"/>\n<polygon fill=\"black\" stroke=\"black\" points=\"674.11,-99.13 684.49,-97.01 675.05,-92.19 674.11,-99.13\"/>\n</g>\n<!-- 140253959316064* -->\n<g id=\"node2\" class=\"node\">\n<title>140253959316064*</title>\n<ellipse fill=\"none\" stroke=\"black\" cx=\"312\" cy=\"-73.5\" rx=\"27\" ry=\"18\"/>\n<text text-anchor=\"middle\" x=\"312\" y=\"-69.8\" font-family=\"Times,serif\" font-size=\"14.00\">*</text>\n</g>\n<!-- 140253959316064*&#45;&gt;140253959316064 -->\n<g id=\"edge1\" class=\"edge\">\n<title>140253959316064*&#45;&gt;140253959316064</title>\n<path fill=\"none\" stroke=\"black\" d=\"M339.23,-73.5C347.26,-73.5 356.72,-73.5 366.99,-73.5\"/>\n<polygon fill=\"black\" stroke=\"black\" points=\"367.08,-77 377.08,-73.5 367.08,-70 367.08,-77\"/>\n</g>\n<!-- 140253959322592 -->\n<g id=\"node3\" class=\"node\">\n<title>140253959322592</title>\n<polygon fill=\"none\" stroke=\"black\" points=\"1941.1,-219.5 1941.1,-255.5 2172.1,-255.5 2172.1,-219.5 1941.1,-219.5\"/>\n<text text-anchor=\"middle\" x=\"1951.6\" y=\"-233.8\" font-family=\"Times,serif\" font-size=\"14.00\"> </text>\n<polyline fill=\"none\" stroke=\"black\" points=\"1962.1,-219.5 1962.1,-255.5 \"/>\n<text text-anchor=\"middle\" x=\"2013.1\" y=\"-233.8\" font-family=\"Times,serif\" font-size=\"14.00\">data 1.0000</text>\n<polyline fill=\"none\" stroke=\"black\" points=\"2064.1,-219.5 2064.1,-255.5 \"/>\n<text text-anchor=\"middle\" x=\"2118.1\" y=\"-233.8\" font-family=\"Times,serif\" font-size=\"14.00\">grad &#45;0.1036</text>\n</g>\n<!-- 140253959322640+ -->\n<g id=\"node7\" class=\"node\">\n<title>140253959322640+</title>\n<ellipse fill=\"none\" stroke=\"black\" cx=\"2235.6\" cy=\"-182.5\" rx=\"27\" ry=\"18\"/>\n<text text-anchor=\"middle\" x=\"2235.6\" y=\"-178.8\" font-family=\"Times,serif\" font-size=\"14.00\">+</text>\n</g>\n<!-- 140253959322592&#45;&gt;140253959322640+ -->\n<g id=\"edge15\" class=\"edge\">\n<title>140253959322592&#45;&gt;140253959322640+</title>\n<path fill=\"none\" stroke=\"black\" d=\"M2142.9,-219.43C2152.99,-216.72 2163.08,-213.73 2172.6,-210.5 2183.27,-206.87 2194.61,-202.06 2204.63,-197.44\"/>\n<polygon fill=\"black\" stroke=\"black\" points=\"2206.22,-200.56 2213.77,-193.13 2203.23,-194.23 2206.22,-200.56\"/>\n</g>\n<!-- 140253959318512 -->\n<g id=\"node4\" class=\"node\">\n<title>140253959318512</title>\n<polygon fill=\"none\" stroke=\"black\" points=\"774,-82.5 774,-118.5 1099,-118.5 1099,-82.5 774,-82.5\"/>\n<text text-anchor=\"middle\" x=\"831\" y=\"-96.8\" font-family=\"Times,serif\" font-size=\"14.00\">x1w1 + x2w2</text>\n<polyline fill=\"none\" stroke=\"black\" points=\"888,-82.5 888,-118.5 \"/>\n<text text-anchor=\"middle\" x=\"941.5\" y=\"-96.8\" font-family=\"Times,serif\" font-size=\"14.00\">data &#45;6.0000</text>\n<polyline fill=\"none\" stroke=\"black\" points=\"995,-82.5 995,-118.5 \"/>\n<text text-anchor=\"middle\" x=\"1047\" y=\"-96.8\" font-family=\"Times,serif\" font-size=\"14.00\">grad 0.5000</text>\n</g>\n<!-- 140253959323312+ -->\n<g id=\"node25\" class=\"node\">\n<title>140253959323312+</title>\n<ellipse fill=\"none\" stroke=\"black\" cx=\"1162\" cy=\"-127.5\" rx=\"27\" ry=\"18\"/>\n<text text-anchor=\"middle\" x=\"1162\" y=\"-123.8\" font-family=\"Times,serif\" font-size=\"14.00\">+</text>\n</g>\n<!-- 140253959318512&#45;&gt;140253959323312+ -->\n<g id=\"edge21\" class=\"edge\">\n<title>140253959318512&#45;&gt;140253959323312+</title>\n<path fill=\"none\" stroke=\"black\" d=\"M1086.58,-118.51C1100.66,-120.21 1113.84,-121.8 1125.09,-123.16\"/>\n<polygon fill=\"black\" stroke=\"black\" points=\"1124.89,-126.66 1135.24,-124.39 1125.73,-119.71 1124.89,-126.66\"/>\n</g>\n<!-- 140253959318512+&#45;&gt;140253959318512 -->\n<g id=\"edge2\" class=\"edge\">\n<title>140253959318512+&#45;&gt;140253959318512</title>\n<path fill=\"none\" stroke=\"black\" d=\"M738.08,-100.5C745.51,-100.5 754.21,-100.5 763.74,-100.5\"/>\n<polygon fill=\"black\" stroke=\"black\" points=\"763.95,-104 773.95,-100.5 763.95,-97 763.95,-104\"/>\n</g>\n<!-- 140253959322640 -->\n<g id=\"node6\" class=\"node\">\n<title>140253959322640</title>\n<polygon fill=\"none\" stroke=\"black\" points=\"2298.6,-164.5 2298.6,-200.5 2529.6,-200.5 2529.6,-164.5 2298.6,-164.5\"/>\n<text text-anchor=\"middle\" x=\"2309.1\" y=\"-178.8\" font-family=\"Times,serif\" font-size=\"14.00\"> </text>\n<polyline fill=\"none\" stroke=\"black\" points=\"2319.6,-164.5 2319.6,-200.5 \"/>\n<text text-anchor=\"middle\" x=\"2370.6\" y=\"-178.8\" font-family=\"Times,serif\" font-size=\"14.00\">data 6.8284</text>\n<polyline fill=\"none\" stroke=\"black\" points=\"2421.6,-164.5 2421.6,-200.5 \"/>\n<text text-anchor=\"middle\" x=\"2475.6\" y=\"-178.8\" font-family=\"Times,serif\" font-size=\"14.00\">grad &#45;0.1036</text>\n</g>\n<!-- 140253959322784**&#45;1 -->\n<g id=\"node10\" class=\"node\">\n<title>140253959322784**&#45;1</title>\n<ellipse fill=\"none\" stroke=\"black\" cx=\"2679.1\" cy=\"-182.5\" rx=\"28.7\" ry=\"18\"/>\n<text text-anchor=\"middle\" x=\"2679.1\" y=\"-178.8\" font-family=\"Times,serif\" font-size=\"14.00\">**&#45;1</text>\n</g>\n<!-- 140253959322640&#45;&gt;140253959322784**&#45;1 -->\n<g id=\"edge30\" class=\"edge\">\n<title>140253959322640&#45;&gt;140253959322784**&#45;1</title>\n<path fill=\"none\" stroke=\"black\" d=\"M2529.69,-182.5C2569.38,-182.5 2611.17,-182.5 2640.25,-182.5\"/>\n<polygon fill=\"black\" stroke=\"black\" points=\"2640.37,-186 2650.37,-182.5 2640.37,-179 2640.37,-186\"/>\n</g>\n<!-- 140253959322640+&#45;&gt;140253959322640 -->\n<g id=\"edge3\" class=\"edge\">\n<title>140253959322640+&#45;&gt;140253959322640</title>\n<path fill=\"none\" stroke=\"black\" d=\"M2262.64,-182.5C2270.18,-182.5 2278.96,-182.5 2288.41,-182.5\"/>\n<polygon fill=\"black\" stroke=\"black\" points=\"2288.49,-186 2298.49,-182.5 2288.49,-179 2288.49,-186\"/>\n</g>\n<!-- 140253959320720 -->\n<g id=\"node8\" class=\"node\">\n<title>140253959320720</title>\n<polygon fill=\"none\" stroke=\"black\" points=\"820.5,-137.5 820.5,-173.5 1052.5,-173.5 1052.5,-137.5 820.5,-137.5\"/>\n<text text-anchor=\"middle\" x=\"833.5\" y=\"-151.8\" font-family=\"Times,serif\" font-size=\"14.00\">b</text>\n<polyline fill=\"none\" stroke=\"black\" points=\"846.5,-137.5 846.5,-173.5 \"/>\n<text text-anchor=\"middle\" x=\"897.5\" y=\"-151.8\" font-family=\"Times,serif\" font-size=\"14.00\">data 6.8814</text>\n<polyline fill=\"none\" stroke=\"black\" points=\"948.5,-137.5 948.5,-173.5 \"/>\n<text text-anchor=\"middle\" x=\"1000.5\" y=\"-151.8\" font-family=\"Times,serif\" font-size=\"14.00\">grad 0.5000</text>\n</g>\n<!-- 140253959320720&#45;&gt;140253959323312+ -->\n<g id=\"edge24\" class=\"edge\">\n<title>140253959320720&#45;&gt;140253959323312+</title>\n<path fill=\"none\" stroke=\"black\" d=\"M1052.52,-141.09C1079,-137.77 1105.23,-134.49 1125.26,-131.98\"/>\n<polygon fill=\"black\" stroke=\"black\" points=\"1125.94,-135.42 1135.43,-130.7 1125.07,-128.47 1125.94,-135.42\"/>\n</g>\n<!-- 140253959322784 -->\n<g id=\"node9\" class=\"node\">\n<title>140253959322784</title>\n<polygon fill=\"none\" stroke=\"black\" points=\"2828.6,-162.5 2828.6,-198.5 3055.6,-198.5 3055.6,-162.5 2828.6,-162.5\"/>\n<text text-anchor=\"middle\" x=\"2839.1\" y=\"-176.8\" font-family=\"Times,serif\" font-size=\"14.00\"> </text>\n<polyline fill=\"none\" stroke=\"black\" points=\"2849.6,-162.5 2849.6,-198.5 \"/>\n<text text-anchor=\"middle\" x=\"2900.6\" y=\"-176.8\" font-family=\"Times,serif\" font-size=\"14.00\">data 0.1464</text>\n<polyline fill=\"none\" stroke=\"black\" points=\"2951.6,-162.5 2951.6,-198.5 \"/>\n<text text-anchor=\"middle\" x=\"3003.6\" y=\"-176.8\" font-family=\"Times,serif\" font-size=\"14.00\">grad 4.8284</text>\n</g>\n<!-- 140253959319136* -->\n<g id=\"node23\" class=\"node\">\n<title>140253959319136*</title>\n<ellipse fill=\"none\" stroke=\"black\" cx=\"3118.6\" cy=\"-154.5\" rx=\"27\" ry=\"18\"/>\n<text text-anchor=\"middle\" x=\"3118.6\" y=\"-150.8\" font-family=\"Times,serif\" font-size=\"14.00\">*</text>\n</g>\n<!-- 140253959322784&#45;&gt;140253959319136* -->\n<g id=\"edge22\" class=\"edge\">\n<title>140253959322784&#45;&gt;140253959319136*</title>\n<path fill=\"none\" stroke=\"black\" d=\"M3056.07,-163.67C3065.37,-162.28 3074.23,-160.96 3082.2,-159.77\"/>\n<polygon fill=\"black\" stroke=\"black\" points=\"3082.73,-163.23 3092.1,-158.3 3081.7,-156.31 3082.73,-163.23\"/>\n</g>\n<!-- 140253959322784**&#45;1&#45;&gt;140253959322784 -->\n<g id=\"edge4\" class=\"edge\">\n<title>140253959322784**&#45;1&#45;&gt;140253959322784</title>\n<path fill=\"none\" stroke=\"black\" d=\"M2708.03,-182.29C2734.75,-182.08 2776.99,-181.76 2818.21,-181.44\"/>\n<polygon fill=\"black\" stroke=\"black\" points=\"2818.4,-184.94 2828.37,-181.36 2818.35,-177.94 2818.4,-184.94\"/>\n</g>\n<!-- 140253959316640 -->\n<g id=\"node11\" class=\"node\">\n<title>140253959316640</title>\n<polygon fill=\"none\" stroke=\"black\" points=\"2.5,-165.5 2.5,-201.5 246.5,-201.5 246.5,-165.5 2.5,-165.5\"/>\n<text text-anchor=\"middle\" x=\"19.5\" y=\"-179.8\" font-family=\"Times,serif\" font-size=\"14.00\">x1</text>\n<polyline fill=\"none\" stroke=\"black\" points=\"36.5,-165.5 36.5,-201.5 \"/>\n<text text-anchor=\"middle\" x=\"87.5\" y=\"-179.8\" font-family=\"Times,serif\" font-size=\"14.00\">data 2.0000</text>\n<polyline fill=\"none\" stroke=\"black\" points=\"138.5,-165.5 138.5,-201.5 \"/>\n<text text-anchor=\"middle\" x=\"192.5\" y=\"-179.8\" font-family=\"Times,serif\" font-size=\"14.00\">grad &#45;1.5000</text>\n</g>\n<!-- 140253959315296* -->\n<g id=\"node30\" class=\"node\">\n<title>140253959315296*</title>\n<ellipse fill=\"none\" stroke=\"black\" cx=\"312\" cy=\"-128.5\" rx=\"27\" ry=\"18\"/>\n<text text-anchor=\"middle\" x=\"312\" y=\"-124.8\" font-family=\"Times,serif\" font-size=\"14.00\">*</text>\n</g>\n<!-- 140253959316640&#45;&gt;140253959315296* -->\n<g id=\"edge25\" class=\"edge\">\n<title>140253959316640&#45;&gt;140253959315296*</title>\n<path fill=\"none\" stroke=\"black\" d=\"M218.13,-165.46C228.63,-162.77 239.1,-159.78 249,-156.5 259.71,-152.96 271.05,-148.16 281.07,-143.54\"/>\n<polygon fill=\"black\" stroke=\"black\" points=\"282.67,-146.66 290.2,-139.21 279.67,-140.33 282.67,-146.66\"/>\n</g>\n<!-- 140253959320768 -->\n<g id=\"node12\" class=\"node\">\n<title>140253959320768</title>\n<polygon fill=\"none\" stroke=\"black\" points=\"2.5,-55.5 2.5,-91.5 246.5,-91.5 246.5,-55.5 2.5,-55.5\"/>\n<text text-anchor=\"middle\" x=\"21.5\" y=\"-69.8\" font-family=\"Times,serif\" font-size=\"14.00\">w2</text>\n<polyline fill=\"none\" stroke=\"black\" points=\"40.5,-55.5 40.5,-91.5 \"/>\n<text text-anchor=\"middle\" x=\"91.5\" y=\"-69.8\" font-family=\"Times,serif\" font-size=\"14.00\">data 1.0000</text>\n<polyline fill=\"none\" stroke=\"black\" points=\"142.5,-55.5 142.5,-91.5 \"/>\n<text text-anchor=\"middle\" x=\"194.5\" y=\"-69.8\" font-family=\"Times,serif\" font-size=\"14.00\">grad 0.0000</text>\n</g>\n<!-- 140253959320768&#45;&gt;140253959316064* -->\n<g id=\"edge26\" class=\"edge\">\n<title>140253959320768&#45;&gt;140253959316064*</title>\n<path fill=\"none\" stroke=\"black\" d=\"M246.64,-73.5C256.7,-73.5 266.26,-73.5 274.79,-73.5\"/>\n<polygon fill=\"black\" stroke=\"black\" points=\"275,-77 285,-73.5 275,-70 275,-77\"/>\n</g>\n<!-- 140253959318704 -->\n<g id=\"node13\" class=\"node\">\n<title>140253959318704</title>\n<polygon fill=\"none\" stroke=\"black\" points=\"1227.5,-54.5 1227.5,-90.5 1454.5,-90.5 1454.5,-54.5 1227.5,-54.5\"/>\n<text text-anchor=\"middle\" x=\"1238\" y=\"-68.8\" font-family=\"Times,serif\" font-size=\"14.00\"> </text>\n<polyline fill=\"none\" stroke=\"black\" points=\"1248.5,-54.5 1248.5,-90.5 \"/>\n<text text-anchor=\"middle\" x=\"1299.5\" y=\"-68.8\" font-family=\"Times,serif\" font-size=\"14.00\">data 2.0000</text>\n<polyline fill=\"none\" stroke=\"black\" points=\"1350.5,-54.5 1350.5,-90.5 \"/>\n<text text-anchor=\"middle\" x=\"1402.5\" y=\"-68.8\" font-family=\"Times,serif\" font-size=\"14.00\">grad 0.7523</text>\n</g>\n<!-- 140253959323120* -->\n<g id=\"node20\" class=\"node\">\n<title>140253959323120*</title>\n<ellipse fill=\"none\" stroke=\"black\" cx=\"1520\" cy=\"-72.5\" rx=\"27\" ry=\"18\"/>\n<text text-anchor=\"middle\" x=\"1520\" y=\"-68.8\" font-family=\"Times,serif\" font-size=\"14.00\">*</text>\n</g>\n<!-- 140253959318704&#45;&gt;140253959323120* -->\n<g id=\"edge28\" class=\"edge\">\n<title>140253959318704&#45;&gt;140253959323120*</title>\n<path fill=\"none\" stroke=\"black\" d=\"M1454.6,-72.5C1464.57,-72.5 1474.1,-72.5 1482.63,-72.5\"/>\n<polygon fill=\"black\" stroke=\"black\" points=\"1482.85,-76 1492.85,-72.5 1482.85,-69 1482.85,-76\"/>\n</g>\n<!-- 140253959320864 -->\n<g id=\"node14\" class=\"node\">\n<title>140253959320864</title>\n<polygon fill=\"none\" stroke=\"black\" points=\"1941.1,-164.5 1941.1,-200.5 2172.1,-200.5 2172.1,-164.5 1941.1,-164.5\"/>\n<text text-anchor=\"middle\" x=\"1951.6\" y=\"-178.8\" font-family=\"Times,serif\" font-size=\"14.00\"> </text>\n<polyline fill=\"none\" stroke=\"black\" points=\"1962.1,-164.5 1962.1,-200.5 \"/>\n<text text-anchor=\"middle\" x=\"2013.1\" y=\"-178.8\" font-family=\"Times,serif\" font-size=\"14.00\">data 5.8284</text>\n<polyline fill=\"none\" stroke=\"black\" points=\"2064.1,-164.5 2064.1,-200.5 \"/>\n<text text-anchor=\"middle\" x=\"2118.1\" y=\"-178.8\" font-family=\"Times,serif\" font-size=\"14.00\">grad &#45;0.1036</text>\n</g>\n<!-- 140253959320864&#45;&gt;140253959322640+ -->\n<g id=\"edge20\" class=\"edge\">\n<title>140253959320864&#45;&gt;140253959322640+</title>\n<path fill=\"none\" stroke=\"black\" d=\"M2172.19,-182.5C2181.42,-182.5 2190.24,-182.5 2198.18,-182.5\"/>\n<polygon fill=\"black\" stroke=\"black\" points=\"2198.43,-186 2208.43,-182.5 2198.43,-179 2198.43,-186\"/>\n</g>\n<!-- 140253959320864exp -->\n<g id=\"node15\" class=\"node\">\n<title>140253959320864exp</title>\n<ellipse fill=\"none\" stroke=\"black\" cx=\"1877.3\" cy=\"-182.5\" rx=\"27.1\" ry=\"18\"/>\n<text text-anchor=\"middle\" x=\"1877.3\" y=\"-178.8\" font-family=\"Times,serif\" font-size=\"14.00\">exp</text>\n</g>\n<!-- 140253959320864exp&#45;&gt;140253959320864 -->\n<g id=\"edge5\" class=\"edge\">\n<title>140253959320864exp&#45;&gt;140253959320864</title>\n<path fill=\"none\" stroke=\"black\" d=\"M1904.84,-182.5C1912.44,-182.5 1921.26,-182.5 1930.76,-182.5\"/>\n<polygon fill=\"black\" stroke=\"black\" points=\"1930.87,-186 1940.87,-182.5 1930.87,-179 1930.87,-186\"/>\n</g>\n<!-- 140253959322976 -->\n<g id=\"node16\" class=\"node\">\n<title>140253959322976</title>\n<polygon fill=\"none\" stroke=\"black\" points=\"1943.1,-54.5 1943.1,-90.5 2170.1,-90.5 2170.1,-54.5 1943.1,-54.5\"/>\n<text text-anchor=\"middle\" x=\"1953.6\" y=\"-68.8\" font-family=\"Times,serif\" font-size=\"14.00\"> </text>\n<polyline fill=\"none\" stroke=\"black\" points=\"1964.1,-54.5 1964.1,-90.5 \"/>\n<text text-anchor=\"middle\" x=\"2015.1\" y=\"-68.8\" font-family=\"Times,serif\" font-size=\"14.00\">data 5.8284</text>\n<polyline fill=\"none\" stroke=\"black\" points=\"2066.1,-54.5 2066.1,-90.5 \"/>\n<text text-anchor=\"middle\" x=\"2118.1\" y=\"-68.8\" font-family=\"Times,serif\" font-size=\"14.00\">grad 0.1464</text>\n</g>\n<!-- 140253959319472+ -->\n<g id=\"node32\" class=\"node\">\n<title>140253959319472+</title>\n<ellipse fill=\"none\" stroke=\"black\" cx=\"2235.6\" cy=\"-127.5\" rx=\"27\" ry=\"18\"/>\n<text text-anchor=\"middle\" x=\"2235.6\" y=\"-123.8\" font-family=\"Times,serif\" font-size=\"14.00\">+</text>\n</g>\n<!-- 140253959322976&#45;&gt;140253959319472+ -->\n<g id=\"edge13\" class=\"edge\">\n<title>140253959322976&#45;&gt;140253959319472+</title>\n<path fill=\"none\" stroke=\"black\" d=\"M2139.14,-90.51C2150.47,-93.54 2161.88,-96.89 2172.6,-100.5 2183.03,-104.01 2194.13,-108.57 2204.02,-112.94\"/>\n<polygon fill=\"black\" stroke=\"black\" points=\"2202.88,-116.27 2213.43,-117.2 2205.77,-109.89 2202.88,-116.27\"/>\n</g>\n<!-- 140253959322976exp -->\n<g id=\"node17\" class=\"node\">\n<title>140253959322976exp</title>\n<ellipse fill=\"none\" stroke=\"black\" cx=\"1877.3\" cy=\"-72.5\" rx=\"27.1\" ry=\"18\"/>\n<text text-anchor=\"middle\" x=\"1877.3\" y=\"-68.8\" font-family=\"Times,serif\" font-size=\"14.00\">exp</text>\n</g>\n<!-- 140253959322976exp&#45;&gt;140253959322976 -->\n<g id=\"edge6\" class=\"edge\">\n<title>140253959322976exp&#45;&gt;140253959322976</title>\n<path fill=\"none\" stroke=\"black\" d=\"M1904.84,-72.5C1912.97,-72.5 1922.49,-72.5 1932.74,-72.5\"/>\n<polygon fill=\"black\" stroke=\"black\" points=\"1932.76,-76 1942.76,-72.5 1932.76,-69 1932.76,-76\"/>\n</g>\n<!-- 140253963474336 -->\n<g id=\"node18\" class=\"node\">\n<title>140253963474336</title>\n<polygon fill=\"none\" stroke=\"black\" points=\"0,-110.5 0,-146.5 249,-146.5 249,-110.5 0,-110.5\"/>\n<text text-anchor=\"middle\" x=\"19\" y=\"-124.8\" font-family=\"Times,serif\" font-size=\"14.00\">w1</text>\n<polyline fill=\"none\" stroke=\"black\" points=\"38,-110.5 38,-146.5 \"/>\n<text text-anchor=\"middle\" x=\"91.5\" y=\"-124.8\" font-family=\"Times,serif\" font-size=\"14.00\">data &#45;3.0000</text>\n<polyline fill=\"none\" stroke=\"black\" points=\"145,-110.5 145,-146.5 \"/>\n<text text-anchor=\"middle\" x=\"197\" y=\"-124.8\" font-family=\"Times,serif\" font-size=\"14.00\">grad 1.0000</text>\n</g>\n<!-- 140253963474336&#45;&gt;140253959315296* -->\n<g id=\"edge31\" class=\"edge\">\n<title>140253963474336&#45;&gt;140253959315296*</title>\n<path fill=\"none\" stroke=\"black\" d=\"M249.23,-128.5C258.37,-128.5 267.05,-128.5 274.87,-128.5\"/>\n<polygon fill=\"black\" stroke=\"black\" points=\"274.95,-132 284.95,-128.5 274.95,-125 274.95,-132\"/>\n</g>\n<!-- 140253959323120 -->\n<g id=\"node19\" class=\"node\">\n<title>140253959323120</title>\n<polygon fill=\"none\" stroke=\"black\" points=\"1585,-54.5 1585,-90.5 1812,-90.5 1812,-54.5 1585,-54.5\"/>\n<text text-anchor=\"middle\" x=\"1595.5\" y=\"-68.8\" font-family=\"Times,serif\" font-size=\"14.00\"> </text>\n<polyline fill=\"none\" stroke=\"black\" points=\"1606,-54.5 1606,-90.5 \"/>\n<text text-anchor=\"middle\" x=\"1657\" y=\"-68.8\" font-family=\"Times,serif\" font-size=\"14.00\">data 1.7627</text>\n<polyline fill=\"none\" stroke=\"black\" points=\"1708,-54.5 1708,-90.5 \"/>\n<text text-anchor=\"middle\" x=\"1760\" y=\"-68.8\" font-family=\"Times,serif\" font-size=\"14.00\">grad 0.8536</text>\n</g>\n<!-- 140253959323120&#45;&gt;140253959322976exp -->\n<g id=\"edge18\" class=\"edge\">\n<title>140253959323120&#45;&gt;140253959322976exp</title>\n<path fill=\"none\" stroke=\"black\" d=\"M1812.22,-72.5C1822.05,-72.5 1831.45,-72.5 1839.87,-72.5\"/>\n<polygon fill=\"black\" stroke=\"black\" points=\"1839.98,-76 1849.98,-72.5 1839.98,-69 1839.98,-76\"/>\n</g>\n<!-- 140253959323120*&#45;&gt;140253959323120 -->\n<g id=\"edge7\" class=\"edge\">\n<title>140253959323120*&#45;&gt;140253959323120</title>\n<path fill=\"none\" stroke=\"black\" d=\"M1547.04,-72.5C1555.03,-72.5 1564.39,-72.5 1574.48,-72.5\"/>\n<polygon fill=\"black\" stroke=\"black\" points=\"1574.78,-76 1584.78,-72.5 1574.78,-69 1574.78,-76\"/>\n</g>\n<!-- 140253963470352 -->\n<g id=\"node21\" class=\"node\">\n<title>140253963470352</title>\n<polygon fill=\"none\" stroke=\"black\" points=\"4.5,-0.5 4.5,-36.5 244.5,-36.5 244.5,-0.5 4.5,-0.5\"/>\n<text text-anchor=\"middle\" x=\"21.5\" y=\"-14.8\" font-family=\"Times,serif\" font-size=\"14.00\">x2</text>\n<polyline fill=\"none\" stroke=\"black\" points=\"38.5,-0.5 38.5,-36.5 \"/>\n<text text-anchor=\"middle\" x=\"89.5\" y=\"-14.8\" font-family=\"Times,serif\" font-size=\"14.00\">data 0.0000</text>\n<polyline fill=\"none\" stroke=\"black\" points=\"140.5,-0.5 140.5,-36.5 \"/>\n<text text-anchor=\"middle\" x=\"192.5\" y=\"-14.8\" font-family=\"Times,serif\" font-size=\"14.00\">grad 0.5000</text>\n</g>\n<!-- 140253963470352&#45;&gt;140253959316064* -->\n<g id=\"edge17\" class=\"edge\">\n<title>140253963470352&#45;&gt;140253959316064*</title>\n<path fill=\"none\" stroke=\"black\" d=\"M218.13,-36.54C228.63,-39.23 239.1,-42.22 249,-45.5 259.71,-49.04 271.05,-53.84 281.07,-58.46\"/>\n<polygon fill=\"black\" stroke=\"black\" points=\"279.67,-61.67 290.2,-62.79 282.67,-55.34 279.67,-61.67\"/>\n</g>\n<!-- 140253959319136 -->\n<g id=\"node22\" class=\"node\">\n<title>140253959319136</title>\n<polygon fill=\"none\" stroke=\"black\" points=\"3181.6,-136.5 3181.6,-172.5 3412.6,-172.5 3412.6,-136.5 3181.6,-136.5\"/>\n<text text-anchor=\"middle\" x=\"3194.1\" y=\"-150.8\" font-family=\"Times,serif\" font-size=\"14.00\">o</text>\n<polyline fill=\"none\" stroke=\"black\" points=\"3206.6,-136.5 3206.6,-172.5 \"/>\n<text text-anchor=\"middle\" x=\"3257.6\" y=\"-150.8\" font-family=\"Times,serif\" font-size=\"14.00\">data 0.7071</text>\n<polyline fill=\"none\" stroke=\"black\" points=\"3308.6,-136.5 3308.6,-172.5 \"/>\n<text text-anchor=\"middle\" x=\"3360.6\" y=\"-150.8\" font-family=\"Times,serif\" font-size=\"14.00\">grad 1.0000</text>\n</g>\n<!-- 140253959319136*&#45;&gt;140253959319136 -->\n<g id=\"edge8\" class=\"edge\">\n<title>140253959319136*&#45;&gt;140253959319136</title>\n<path fill=\"none\" stroke=\"black\" d=\"M3145.64,-154.5C3153.18,-154.5 3161.96,-154.5 3171.41,-154.5\"/>\n<polygon fill=\"black\" stroke=\"black\" points=\"3171.49,-158 3181.49,-154.5 3171.49,-151 3171.49,-158\"/>\n</g>\n<!-- 140253959323312 -->\n<g id=\"node24\" class=\"node\">\n<title>140253959323312</title>\n<polygon fill=\"none\" stroke=\"black\" points=\"1225,-109.5 1225,-145.5 1457,-145.5 1457,-109.5 1225,-109.5\"/>\n<text text-anchor=\"middle\" x=\"1238\" y=\"-123.8\" font-family=\"Times,serif\" font-size=\"14.00\">n</text>\n<polyline fill=\"none\" stroke=\"black\" points=\"1251,-109.5 1251,-145.5 \"/>\n<text text-anchor=\"middle\" x=\"1302\" y=\"-123.8\" font-family=\"Times,serif\" font-size=\"14.00\">data 0.8814</text>\n<polyline fill=\"none\" stroke=\"black\" points=\"1353,-109.5 1353,-145.5 \"/>\n<text text-anchor=\"middle\" x=\"1405\" y=\"-123.8\" font-family=\"Times,serif\" font-size=\"14.00\">grad 0.5000</text>\n</g>\n<!-- 140253959323312&#45;&gt;140253959323120* -->\n<g id=\"edge29\" class=\"edge\">\n<title>140253959323312&#45;&gt;140253959323120*</title>\n<path fill=\"none\" stroke=\"black\" d=\"M1427.31,-109.43C1437.4,-106.72 1447.48,-103.73 1457,-100.5 1467.68,-96.87 1479.02,-92.06 1489.04,-87.44\"/>\n<polygon fill=\"black\" stroke=\"black\" points=\"1490.63,-90.56 1498.17,-83.13 1487.64,-84.23 1490.63,-90.56\"/>\n</g>\n<!-- 140253959319232* -->\n<g id=\"node27\" class=\"node\">\n<title>140253959319232*</title>\n<ellipse fill=\"none\" stroke=\"black\" cx=\"1520\" cy=\"-182.5\" rx=\"27\" ry=\"18\"/>\n<text text-anchor=\"middle\" x=\"1520\" y=\"-178.8\" font-family=\"Times,serif\" font-size=\"14.00\">*</text>\n</g>\n<!-- 140253959323312&#45;&gt;140253959319232* -->\n<g id=\"edge23\" class=\"edge\">\n<title>140253959323312&#45;&gt;140253959319232*</title>\n<path fill=\"none\" stroke=\"black\" d=\"M1423.55,-145.51C1434.87,-148.54 1446.29,-151.89 1457,-155.5 1467.43,-159.01 1478.54,-163.57 1488.42,-167.94\"/>\n<polygon fill=\"black\" stroke=\"black\" points=\"1487.28,-171.27 1497.84,-172.2 1490.17,-164.89 1487.28,-171.27\"/>\n</g>\n<!-- 140253959323312+&#45;&gt;140253959323312 -->\n<g id=\"edge9\" class=\"edge\">\n<title>140253959323312+&#45;&gt;140253959323312</title>\n<path fill=\"none\" stroke=\"black\" d=\"M1189.12,-127.5C1196.53,-127.5 1205.14,-127.5 1214.4,-127.5\"/>\n<polygon fill=\"black\" stroke=\"black\" points=\"1214.69,-131 1224.69,-127.5 1214.69,-124 1214.69,-131\"/>\n</g>\n<!-- 140253959319232 -->\n<g id=\"node26\" class=\"node\">\n<title>140253959319232</title>\n<polygon fill=\"none\" stroke=\"black\" points=\"1583,-164.5 1583,-200.5 1814,-200.5 1814,-164.5 1583,-164.5\"/>\n<text text-anchor=\"middle\" x=\"1593.5\" y=\"-178.8\" font-family=\"Times,serif\" font-size=\"14.00\"> </text>\n<polyline fill=\"none\" stroke=\"black\" points=\"1604,-164.5 1604,-200.5 \"/>\n<text text-anchor=\"middle\" x=\"1655\" y=\"-178.8\" font-family=\"Times,serif\" font-size=\"14.00\">data 1.7627</text>\n<polyline fill=\"none\" stroke=\"black\" points=\"1706,-164.5 1706,-200.5 \"/>\n<text text-anchor=\"middle\" x=\"1760\" y=\"-178.8\" font-family=\"Times,serif\" font-size=\"14.00\">grad &#45;0.6036</text>\n</g>\n<!-- 140253959319232&#45;&gt;140253959320864exp -->\n<g id=\"edge33\" class=\"edge\">\n<title>140253959319232&#45;&gt;140253959320864exp</title>\n<path fill=\"none\" stroke=\"black\" d=\"M1814.46,-182.5C1823.44,-182.5 1832.02,-182.5 1839.77,-182.5\"/>\n<polygon fill=\"black\" stroke=\"black\" points=\"1839.79,-186 1849.79,-182.5 1839.79,-179 1839.79,-186\"/>\n</g>\n<!-- 140253959319232*&#45;&gt;140253959319232 -->\n<g id=\"edge10\" class=\"edge\">\n<title>140253959319232*&#45;&gt;140253959319232</title>\n<path fill=\"none\" stroke=\"black\" d=\"M1547.04,-182.5C1554.59,-182.5 1563.37,-182.5 1572.82,-182.5\"/>\n<polygon fill=\"black\" stroke=\"black\" points=\"1572.89,-186 1582.89,-182.5 1572.89,-179 1572.89,-186\"/>\n</g>\n<!-- 140253959319280 -->\n<g id=\"node28\" class=\"node\">\n<title>140253959319280</title>\n<polygon fill=\"none\" stroke=\"black\" points=\"1225.5,-164.5 1225.5,-200.5 1456.5,-200.5 1456.5,-164.5 1225.5,-164.5\"/>\n<text text-anchor=\"middle\" x=\"1236\" y=\"-178.8\" font-family=\"Times,serif\" font-size=\"14.00\"> </text>\n<polyline fill=\"none\" stroke=\"black\" points=\"1246.5,-164.5 1246.5,-200.5 \"/>\n<text text-anchor=\"middle\" x=\"1297.5\" y=\"-178.8\" font-family=\"Times,serif\" font-size=\"14.00\">data 2.0000</text>\n<polyline fill=\"none\" stroke=\"black\" points=\"1348.5,-164.5 1348.5,-200.5 \"/>\n<text text-anchor=\"middle\" x=\"1402.5\" y=\"-178.8\" font-family=\"Times,serif\" font-size=\"14.00\">grad &#45;0.5320</text>\n</g>\n<!-- 140253959319280&#45;&gt;140253959319232* -->\n<g id=\"edge14\" class=\"edge\">\n<title>140253959319280&#45;&gt;140253959319232*</title>\n<path fill=\"none\" stroke=\"black\" d=\"M1456.6,-182.5C1465.83,-182.5 1474.64,-182.5 1482.58,-182.5\"/>\n<polygon fill=\"black\" stroke=\"black\" points=\"1482.84,-186 1492.84,-182.5 1482.84,-179 1482.84,-186\"/>\n</g>\n<!-- 140253959315296 -->\n<g id=\"node29\" class=\"node\">\n<title>140253959315296</title>\n<polygon fill=\"none\" stroke=\"black\" points=\"375,-110.5 375,-146.5 648,-146.5 648,-110.5 375,-110.5\"/>\n<text text-anchor=\"middle\" x=\"406\" y=\"-124.8\" font-family=\"Times,serif\" font-size=\"14.00\">x1*w1</text>\n<polyline fill=\"none\" stroke=\"black\" points=\"437,-110.5 437,-146.5 \"/>\n<text text-anchor=\"middle\" x=\"490.5\" y=\"-124.8\" font-family=\"Times,serif\" font-size=\"14.00\">data &#45;6.0000</text>\n<polyline fill=\"none\" stroke=\"black\" points=\"544,-110.5 544,-146.5 \"/>\n<text text-anchor=\"middle\" x=\"596\" y=\"-124.8\" font-family=\"Times,serif\" font-size=\"14.00\">grad 0.5000</text>\n</g>\n<!-- 140253959315296&#45;&gt;140253959318512+ -->\n<g id=\"edge32\" class=\"edge\">\n<title>140253959315296&#45;&gt;140253959318512+</title>\n<path fill=\"none\" stroke=\"black\" d=\"M639.53,-110.49C652.09,-108.71 663.99,-107.02 674.3,-105.56\"/>\n<polygon fill=\"black\" stroke=\"black\" points=\"675.03,-108.99 684.44,-104.12 674.05,-102.06 675.03,-108.99\"/>\n</g>\n<!-- 140253959315296*&#45;&gt;140253959315296 -->\n<g id=\"edge11\" class=\"edge\">\n<title>140253959315296*&#45;&gt;140253959315296</title>\n<path fill=\"none\" stroke=\"black\" d=\"M339.23,-128.5C346.7,-128.5 355.41,-128.5 364.87,-128.5\"/>\n<polygon fill=\"black\" stroke=\"black\" points=\"364.98,-132 374.98,-128.5 364.98,-125 364.98,-132\"/>\n</g>\n<!-- 140253959319472 -->\n<g id=\"node31\" class=\"node\">\n<title>140253959319472</title>\n<polygon fill=\"none\" stroke=\"black\" points=\"2565.6,-109.5 2565.6,-145.5 2792.6,-145.5 2792.6,-109.5 2565.6,-109.5\"/>\n<text text-anchor=\"middle\" x=\"2576.1\" y=\"-123.8\" font-family=\"Times,serif\" font-size=\"14.00\"> </text>\n<polyline fill=\"none\" stroke=\"black\" points=\"2586.6,-109.5 2586.6,-145.5 \"/>\n<text text-anchor=\"middle\" x=\"2637.6\" y=\"-123.8\" font-family=\"Times,serif\" font-size=\"14.00\">data 4.8284</text>\n<polyline fill=\"none\" stroke=\"black\" points=\"2688.6,-109.5 2688.6,-145.5 \"/>\n<text text-anchor=\"middle\" x=\"2740.6\" y=\"-123.8\" font-family=\"Times,serif\" font-size=\"14.00\">grad 0.1464</text>\n</g>\n<!-- 140253959319472&#45;&gt;140253959319136* -->\n<g id=\"edge27\" class=\"edge\">\n<title>140253959319472&#45;&gt;140253959319136*</title>\n<path fill=\"none\" stroke=\"black\" d=\"M2792.76,-134.45C2888.02,-140.33 3018.68,-148.4 3081.28,-152.26\"/>\n<polygon fill=\"black\" stroke=\"black\" points=\"3081.24,-155.76 3091.44,-152.89 3081.68,-148.78 3081.24,-155.76\"/>\n</g>\n<!-- 140253959319472+&#45;&gt;140253959319472 -->\n<g id=\"edge12\" class=\"edge\">\n<title>140253959319472+&#45;&gt;140253959319472</title>\n<path fill=\"none\" stroke=\"black\" d=\"M2262.89,-127.5C2319.16,-127.5 2454.31,-127.5 2555.23,-127.5\"/>\n<polygon fill=\"black\" stroke=\"black\" points=\"2555.5,-131 2565.5,-127.5 2555.5,-124 2555.5,-131\"/>\n</g>\n<!-- 140253959319520 -->\n<g id=\"node33\" class=\"node\">\n<title>140253959319520</title>\n<polygon fill=\"none\" stroke=\"black\" points=\"1940.6,-109.5 1940.6,-145.5 2172.6,-145.5 2172.6,-109.5 1940.6,-109.5\"/>\n<text text-anchor=\"middle\" x=\"1951.1\" y=\"-123.8\" font-family=\"Times,serif\" font-size=\"14.00\"> </text>\n<polyline fill=\"none\" stroke=\"black\" points=\"1961.6,-109.5 1961.6,-145.5 \"/>\n<text text-anchor=\"middle\" x=\"2015.1\" y=\"-123.8\" font-family=\"Times,serif\" font-size=\"14.00\">data &#45;1.0000</text>\n<polyline fill=\"none\" stroke=\"black\" points=\"2068.6,-109.5 2068.6,-145.5 \"/>\n<text text-anchor=\"middle\" x=\"2120.6\" y=\"-123.8\" font-family=\"Times,serif\" font-size=\"14.00\">grad 0.1464</text>\n</g>\n<!-- 140253959319520&#45;&gt;140253959319472+ -->\n<g id=\"edge19\" class=\"edge\">\n<title>140253959319520&#45;&gt;140253959319472+</title>\n<path fill=\"none\" stroke=\"black\" d=\"M2172.69,-127.5C2181.77,-127.5 2190.44,-127.5 2198.26,-127.5\"/>\n<polygon fill=\"black\" stroke=\"black\" points=\"2198.36,-131 2208.36,-127.5 2198.36,-124 2198.36,-131\"/>\n</g>\n</g>\n</svg>\n",
      "text/plain": [
       "<graphviz.graphs.Digraph at 0x7f8f6b6c7430>"
      ]
     },
     "execution_count": 235,
     "metadata": {},
     "output_type": "execute_result"
    }
   ],
   "source": [
    "#inputs\n",
    "x1 = Value(2.0, label='x1')\n",
    "x2 = Value(0.0, label='x2')\n",
    "\n",
    "#weights\n",
    "w1 = Value(-3.0, label='w1')\n",
    "w2 = Value(1.0, label='w2')\n",
    "\n",
    "#bias\n",
    "b = Value(6.8813735, label='b')\n",
    "\n",
    "# x1*w1 + x2*w2 + b\n",
    "x1w1 = x1*w1; x1w1.label = 'x1*w1'\n",
    "x2w2 = x2*w2; x2w2.label = 'x2*w2'\n",
    "\n",
    "x1w1x2w2 = x1w1 + x2w2; x1w1x2w2.label = 'x1w1 + x2w2'\n",
    "n = x1w1x2w2 + b; n.label = 'n'\n",
    "# -----\n",
    "o = ((2*n).exp() - 1) / ((2*n).exp() + 1)\n",
    "# -----\n",
    "o.label = 'o'\n",
    "o.backward()\n",
    "draw_dot(o)"
   ]
  },
  {
   "attachments": {},
   "cell_type": "markdown",
   "metadata": {},
   "source": [
    "## PyTorch implementation of the same neural network"
   ]
  },
  {
   "cell_type": "code",
   "execution_count": 238,
   "metadata": {},
   "outputs": [
    {
     "name": "stdout",
     "output_type": "stream",
     "text": [
      "0.7071066904050358\n",
      "----\n",
      "x1 -1.5000003851533106\n",
      "w1 1.0000002567688737\n",
      "x2 0.5000001283844369\n",
      "w2 0.0\n"
     ]
    }
   ],
   "source": [
    "import torch\n",
    "\n",
    "x1 = torch.Tensor([2.0]).double(); x1.requires_grad = True\n",
    "x2 = torch.Tensor([0.0]).double(); x2.requires_grad = True\n",
    "w1 = torch.Tensor([-3.0]).double(); w1.requires_grad = True\n",
    "w2 = torch.Tensor([1.0]).double(); w2.requires_grad = True\n",
    "b = torch.Tensor([6.8813735]).double(); b.requires_grad = True\n",
    "n = x1*w1 + x2*w2 + b\n",
    "o = torch.tanh(n)\n",
    "\n",
    "print(o.data.item())\n",
    "o.backward()\n",
    "\n",
    "print('----')\n",
    "print('x1', x1.grad.item())\n",
    "print('w1', w1.grad.item())\n",
    "print('x2', x2.grad.item())\n",
    "print('w2', w2.grad.item())\n",
    "\n"
   ]
  },
  {
   "attachments": {},
   "cell_type": "markdown",
   "metadata": {},
   "source": [
    "## Neuralnet"
   ]
  },
  {
   "cell_type": "code",
   "execution_count": 260,
   "metadata": {},
   "outputs": [],
   "source": [
    "import random\n",
    "\n",
    "class Neuron:\n",
    "    def __init__(self, nin):\n",
    "        self.w = [Value(random.uniform(-1, 1)) for _ in range(nin)]\n",
    "        self.b = Value(random.uniform(-1, 1))\n",
    "    \n",
    "    def __call__(self, x):\n",
    "        # w * x + b\n",
    "        act = sum((wi * xi for wi, xi in zip(self.w, x)), self.b)\n",
    "        out = act.tanh()\n",
    "        return out\n",
    "\n",
    "    def parameters(self):\n",
    "        return self.w + [self.b]\n",
    "\n",
    "class Layer:\n",
    "    def __init__(self, nin, nout):\n",
    "        self.neurons = [Neuron(nin) for _ in range(nout)]\n",
    "    \n",
    "    def __call__(self, x):\n",
    "        outs = [n(x) for n in self.neurons]\n",
    "        return outs[0] if len(outs) == 1 else outs\n",
    "    \n",
    "    def parameters(self):\n",
    "        return [p for neuron in self.neurons for p in neuron.parameters()]\n",
    "\n",
    "class MLP: #multi layer perceptron\n",
    "    def __init__(self, nin, nouts):\n",
    "        sz = [nin] + nouts\n",
    "        self.layers = [Layer(sz[i], sz[i+1]) for i in range(len(nouts))]\n",
    "    \n",
    "    def __call__(self, x):\n",
    "        for layer in self.layers:\n",
    "            x = layer(x)\n",
    "        return x\n",
    "\n",
    "    def parameters(self):\n",
    "        return [p for layer in self.layers for p in layer.parameters()]\n",
    "\n"
   ]
  },
  {
   "cell_type": "code",
   "execution_count": 287,
   "metadata": {},
   "outputs": [
    {
     "data": {
      "text/plain": [
       "Value(data=-0.7047023682108107)"
      ]
     },
     "execution_count": 287,
     "metadata": {},
     "output_type": "execute_result"
    }
   ],
   "source": [
    "x = [2.0, 3.0, -1.0]\n",
    "n = MLP(3, [4, 4, 1])\n",
    "n(x)"
   ]
  },
  {
   "cell_type": "code",
   "execution_count": 288,
   "metadata": {},
   "outputs": [],
   "source": [
    "xs = [\n",
    "    [2.0, 3.0, -1.0],\n",
    "    [3.0, -1.0, 0.6],\n",
    "    [6.0, 1.0, 5.0],\n",
    "    [1.0, 3.0, 2.0]\n",
    "]\n",
    "ys = [1.0, -1.0, 1.0, -1.0]\n"
   ]
  },
  {
   "cell_type": "code",
   "execution_count": 292,
   "metadata": {},
   "outputs": [
    {
     "name": "stdout",
     "output_type": "stream",
     "text": [
      "0 0.05737843094240827\n",
      "1 0.05396850238730719\n",
      "2 0.050914136489669755\n",
      "3 0.04816421840887533\n",
      "4 0.04567678042631218\n",
      "5 0.04341707696064366\n",
      "6 0.041356119122334355\n",
      "7 0.03946954739483023\n",
      "8 0.03773675590689847\n",
      "9 0.03614020588834147\n",
      "10 0.034664882797999605\n",
      "11 0.03329786358396572\n",
      "12 0.03202796911111576\n",
      "13 0.030845482998277905\n",
      "14 0.029741922645280628\n",
      "15 0.028709851579041542\n",
      "16 0.027742724741503383\n",
      "17 0.0268347602148438\n",
      "18 0.025980832297036918\n",
      "19 0.025176381922327566\n"
     ]
    }
   ],
   "source": [
    "for k in range(20):\n",
    "    #forward pass\n",
    "    ypred = [n(x) for x in xs]\n",
    "    loss = sum([(ygt - yout) ** 2 for ygt, yout in zip(ys, ypred)])\n",
    "\n",
    "    # zero grad\n",
    "    for p in n.parameters():\n",
    "        p.grad = 0\n",
    "    \n",
    "    #backward pass\n",
    "    loss.backward()\n",
    "\n",
    "    #update\n",
    "    for p in n.parameters():\n",
    "        p.data += -0.05 * p.grad\n",
    "    \n",
    "    print(k, loss.data)"
   ]
  },
  {
   "cell_type": "code",
   "execution_count": 283,
   "metadata": {},
   "outputs": [],
   "source": []
  },
  {
   "cell_type": "code",
   "execution_count": 284,
   "metadata": {},
   "outputs": [],
   "source": []
  },
  {
   "cell_type": "code",
   "execution_count": 285,
   "metadata": {},
   "outputs": [
    {
     "data": {
      "text/plain": [
       "[Value(data=0.9407370395025909),\n",
       " Value(data=-0.795905885197826),\n",
       " Value(data=-0.7598473043599155),\n",
       " Value(data=-0.6021922757091003)]"
      ]
     },
     "execution_count": 285,
     "metadata": {},
     "output_type": "execute_result"
    }
   ],
   "source": [
    "ypred"
   ]
  },
  {
   "cell_type": "code",
   "execution_count": null,
   "metadata": {},
   "outputs": [],
   "source": []
  }
 ],
 "metadata": {
  "kernelspec": {
   "display_name": "base",
   "language": "python",
   "name": "python3"
  },
  "language_info": {
   "codemirror_mode": {
    "name": "ipython",
    "version": 3
   },
   "file_extension": ".py",
   "mimetype": "text/x-python",
   "name": "python",
   "nbconvert_exporter": "python",
   "pygments_lexer": "ipython3",
   "version": "3.10.8"
  },
  "vscode": {
   "interpreter": {
    "hash": "aa99352128c151ce7b65c81941623bc904f435338a382feb7d8693aacef30c8b"
   }
  }
 },
 "nbformat": 4,
 "nbformat_minor": 4
}
